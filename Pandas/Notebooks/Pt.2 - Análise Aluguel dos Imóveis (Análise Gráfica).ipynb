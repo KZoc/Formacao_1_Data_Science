{
 "cells": [
  {
   "cell_type": "code",
   "execution_count": 165,
   "id": "1a2bec62",
   "metadata": {},
   "outputs": [],
   "source": [
    "%matplotlib inline\n",
    "import pandas as pd\n",
    "import matplotlib.pyplot as plt\n",
    "\n",
    "plt.rc('figure', figsize = (20, 25))"
   ]
  },
  {
   "cell_type": "code",
   "execution_count": 98,
   "id": "8f6c905c",
   "metadata": {},
   "outputs": [
    {
     "data": {
      "text/html": [
       "<div>\n",
       "<style scoped>\n",
       "    .dataframe tbody tr th:only-of-type {\n",
       "        vertical-align: middle;\n",
       "    }\n",
       "\n",
       "    .dataframe tbody tr th {\n",
       "        vertical-align: top;\n",
       "    }\n",
       "\n",
       "    .dataframe thead th {\n",
       "        text-align: right;\n",
       "    }\n",
       "</style>\n",
       "<table border=\"1\" class=\"dataframe\">\n",
       "  <thead>\n",
       "    <tr style=\"text-align: right;\">\n",
       "      <th></th>\n",
       "      <th>Tipo</th>\n",
       "      <th>Bairro</th>\n",
       "      <th>Quartos</th>\n",
       "      <th>Vagas</th>\n",
       "      <th>Suites</th>\n",
       "      <th>Area</th>\n",
       "      <th>Valor</th>\n",
       "      <th>Condominio</th>\n",
       "      <th>IPTU</th>\n",
       "      <th>Grupo</th>\n",
       "      <th>Valor_Total</th>\n",
       "    </tr>\n",
       "  </thead>\n",
       "  <tbody>\n",
       "    <tr>\n",
       "      <th>0</th>\n",
       "      <td>Quitinete</td>\n",
       "      <td>Copacabana</td>\n",
       "      <td>1</td>\n",
       "      <td>0</td>\n",
       "      <td>0</td>\n",
       "      <td>40</td>\n",
       "      <td>1700.0</td>\n",
       "      <td>500.0</td>\n",
       "      <td>60.0</td>\n",
       "      <td>Apartamento</td>\n",
       "      <td>2260.0</td>\n",
       "    </tr>\n",
       "    <tr>\n",
       "      <th>1</th>\n",
       "      <td>Casa</td>\n",
       "      <td>Jardim Botânico</td>\n",
       "      <td>2</td>\n",
       "      <td>0</td>\n",
       "      <td>1</td>\n",
       "      <td>100</td>\n",
       "      <td>7000.0</td>\n",
       "      <td>0.0</td>\n",
       "      <td>0.0</td>\n",
       "      <td>Casa</td>\n",
       "      <td>7000.0</td>\n",
       "    </tr>\n",
       "    <tr>\n",
       "      <th>2</th>\n",
       "      <td>Apartamento</td>\n",
       "      <td>Centro</td>\n",
       "      <td>1</td>\n",
       "      <td>0</td>\n",
       "      <td>0</td>\n",
       "      <td>15</td>\n",
       "      <td>800.0</td>\n",
       "      <td>390.0</td>\n",
       "      <td>20.0</td>\n",
       "      <td>Apartamento</td>\n",
       "      <td>1210.0</td>\n",
       "    </tr>\n",
       "    <tr>\n",
       "      <th>3</th>\n",
       "      <td>Apartamento</td>\n",
       "      <td>Higienópolis</td>\n",
       "      <td>1</td>\n",
       "      <td>0</td>\n",
       "      <td>0</td>\n",
       "      <td>48</td>\n",
       "      <td>800.0</td>\n",
       "      <td>230.0</td>\n",
       "      <td>0.0</td>\n",
       "      <td>Apartamento</td>\n",
       "      <td>1030.0</td>\n",
       "    </tr>\n",
       "    <tr>\n",
       "      <th>4</th>\n",
       "      <td>Apartamento</td>\n",
       "      <td>Cachambi</td>\n",
       "      <td>2</td>\n",
       "      <td>0</td>\n",
       "      <td>0</td>\n",
       "      <td>50</td>\n",
       "      <td>1300.0</td>\n",
       "      <td>301.0</td>\n",
       "      <td>17.0</td>\n",
       "      <td>Apartamento</td>\n",
       "      <td>1618.0</td>\n",
       "    </tr>\n",
       "    <tr>\n",
       "      <th>5</th>\n",
       "      <td>Apartamento</td>\n",
       "      <td>Grajaú</td>\n",
       "      <td>2</td>\n",
       "      <td>1</td>\n",
       "      <td>0</td>\n",
       "      <td>70</td>\n",
       "      <td>1500.0</td>\n",
       "      <td>642.0</td>\n",
       "      <td>74.0</td>\n",
       "      <td>Apartamento</td>\n",
       "      <td>2216.0</td>\n",
       "    </tr>\n",
       "    <tr>\n",
       "      <th>6</th>\n",
       "      <td>Apartamento</td>\n",
       "      <td>Lins de Vasconcelos</td>\n",
       "      <td>3</td>\n",
       "      <td>1</td>\n",
       "      <td>1</td>\n",
       "      <td>90</td>\n",
       "      <td>1500.0</td>\n",
       "      <td>455.0</td>\n",
       "      <td>14.0</td>\n",
       "      <td>Apartamento</td>\n",
       "      <td>1969.0</td>\n",
       "    </tr>\n",
       "    <tr>\n",
       "      <th>7</th>\n",
       "      <td>Apartamento</td>\n",
       "      <td>Copacabana</td>\n",
       "      <td>1</td>\n",
       "      <td>0</td>\n",
       "      <td>1</td>\n",
       "      <td>40</td>\n",
       "      <td>2000.0</td>\n",
       "      <td>561.0</td>\n",
       "      <td>50.0</td>\n",
       "      <td>Apartamento</td>\n",
       "      <td>2611.0</td>\n",
       "    </tr>\n",
       "    <tr>\n",
       "      <th>8</th>\n",
       "      <td>Quitinete</td>\n",
       "      <td>Copacabana</td>\n",
       "      <td>1</td>\n",
       "      <td>0</td>\n",
       "      <td>0</td>\n",
       "      <td>27</td>\n",
       "      <td>1800.0</td>\n",
       "      <td>501.0</td>\n",
       "      <td>0.0</td>\n",
       "      <td>Apartamento</td>\n",
       "      <td>2301.0</td>\n",
       "    </tr>\n",
       "    <tr>\n",
       "      <th>9</th>\n",
       "      <td>Apartamento</td>\n",
       "      <td>Copacabana</td>\n",
       "      <td>4</td>\n",
       "      <td>3</td>\n",
       "      <td>1</td>\n",
       "      <td>243</td>\n",
       "      <td>13000.0</td>\n",
       "      <td>2000.0</td>\n",
       "      <td>803.0</td>\n",
       "      <td>Apartamento</td>\n",
       "      <td>15803.0</td>\n",
       "    </tr>\n",
       "  </tbody>\n",
       "</table>\n",
       "</div>"
      ],
      "text/plain": [
       "          Tipo               Bairro  Quartos  Vagas  Suites  Area    Valor  \\\n",
       "0    Quitinete           Copacabana        1      0       0    40   1700.0   \n",
       "1         Casa      Jardim Botânico        2      0       1   100   7000.0   \n",
       "2  Apartamento               Centro        1      0       0    15    800.0   \n",
       "3  Apartamento         Higienópolis        1      0       0    48    800.0   \n",
       "4  Apartamento             Cachambi        2      0       0    50   1300.0   \n",
       "5  Apartamento               Grajaú        2      1       0    70   1500.0   \n",
       "6  Apartamento  Lins de Vasconcelos        3      1       1    90   1500.0   \n",
       "7  Apartamento           Copacabana        1      0       1    40   2000.0   \n",
       "8    Quitinete           Copacabana        1      0       0    27   1800.0   \n",
       "9  Apartamento           Copacabana        4      3       1   243  13000.0   \n",
       "\n",
       "   Condominio   IPTU        Grupo  Valor_Total  \n",
       "0       500.0   60.0  Apartamento       2260.0  \n",
       "1         0.0    0.0         Casa       7000.0  \n",
       "2       390.0   20.0  Apartamento       1210.0  \n",
       "3       230.0    0.0  Apartamento       1030.0  \n",
       "4       301.0   17.0  Apartamento       1618.0  \n",
       "5       642.0   74.0  Apartamento       2216.0  \n",
       "6       455.0   14.0  Apartamento       1969.0  \n",
       "7       561.0   50.0  Apartamento       2611.0  \n",
       "8       501.0    0.0  Apartamento       2301.0  \n",
       "9      2000.0  803.0  Apartamento      15803.0  "
      ]
     },
     "execution_count": 98,
     "metadata": {},
     "output_type": "execute_result"
    }
   ],
   "source": [
    "dados = pd.read_csv('aluguel_residencial.csv', sep = ';')\n",
    "dados.head(10)"
   ]
  },
  {
   "cell_type": "code",
   "execution_count": 99,
   "id": "f05cdbdf",
   "metadata": {},
   "outputs": [],
   "source": [
    "dados.index = range(dados.shape[0])"
   ]
  },
  {
   "cell_type": "markdown",
   "id": "0a4e0e1d",
   "metadata": {},
   "source": [
    "## Iniciando a análise exploratória dos dados"
   ]
  },
  {
   "cell_type": "code",
   "execution_count": 100,
   "id": "11184f16",
   "metadata": {},
   "outputs": [
    {
     "name": "stdout",
     "output_type": "stream",
     "text": [
      "<class 'pandas.core.frame.DataFrame'>\n",
      "RangeIndex: 22262 entries, 0 to 22261\n",
      "Data columns (total 11 columns):\n",
      " #   Column       Non-Null Count  Dtype  \n",
      "---  ------       --------------  -----  \n",
      " 0   Tipo         22262 non-null  object \n",
      " 1   Bairro       22262 non-null  object \n",
      " 2   Quartos      22262 non-null  int64  \n",
      " 3   Vagas        22262 non-null  int64  \n",
      " 4   Suites       22262 non-null  int64  \n",
      " 5   Area         22262 non-null  int64  \n",
      " 6   Valor        22262 non-null  float64\n",
      " 7   Condominio   22262 non-null  float64\n",
      " 8   IPTU         22262 non-null  float64\n",
      " 9   Grupo        22262 non-null  object \n",
      " 10  Valor_Total  22262 non-null  float64\n",
      "dtypes: float64(4), int64(4), object(3)\n",
      "memory usage: 1.9+ MB\n"
     ]
    }
   ],
   "source": [
    "dados.info()"
   ]
  },
  {
   "cell_type": "markdown",
   "id": "314787f4",
   "metadata": {},
   "source": [
    "### - Com base nas informações fica claro ser inviável gerar qualquer tipo de gráfico com todas as informações, pois há muitas. Portanto, vou começar fazer algumas análises para começar pensar em uma abordagem para extrair bons insights dos dados."
   ]
  },
  {
   "cell_type": "code",
   "execution_count": 101,
   "id": "415025c0",
   "metadata": {},
   "outputs": [
    {
     "data": {
      "text/plain": [
       "Apartamento           18780\n",
       "Casa                    965\n",
       "Casa de Condomínio      901\n",
       "Quitinete               836\n",
       "Flat                    476\n",
       "Casa de Vila            249\n",
       "Loft                     51\n",
       "Studio                    4\n",
       "Name: Tipo, dtype: int64"
      ]
     },
     "execution_count": 101,
     "metadata": {},
     "output_type": "execute_result"
    }
   ],
   "source": [
    "dados['Tipo'].value_counts()\n",
    "\n",
    "# Vemos que há muito mais apartamentos do que casas"
   ]
  },
  {
   "cell_type": "code",
   "execution_count": 102,
   "id": "f0ebc4c9",
   "metadata": {},
   "outputs": [
    {
     "data": {
      "text/plain": [
       "Apartamento    20147\n",
       "Casa            2115\n",
       "Name: Grupo, dtype: int64"
      ]
     },
     "execution_count": 102,
     "metadata": {},
     "output_type": "execute_result"
    }
   ],
   "source": [
    "dados['Grupo'].value_counts()"
   ]
  },
  {
   "cell_type": "code",
   "execution_count": 103,
   "id": "f5102a61",
   "metadata": {},
   "outputs": [
    {
     "data": {
      "text/plain": [
       "Barra da Tijuca             3943\n",
       "Copacabana                  2717\n",
       "Ipanema                     1915\n",
       "Recreio dos Bandeirantes    1652\n",
       "Leblon                      1322\n",
       "                            ... \n",
       "Senador Camará                 1\n",
       "Caju                           1\n",
       "Rio da Prata                   1\n",
       "Cidade Jardim                  1\n",
       "Coelho Neto                    1\n",
       "Name: Bairro, Length: 152, dtype: int64"
      ]
     },
     "execution_count": 103,
     "metadata": {},
     "output_type": "execute_result"
    }
   ],
   "source": [
    "dados['Bairro'].value_counts()"
   ]
  },
  {
   "cell_type": "code",
   "execution_count": 104,
   "id": "bdc9c91b",
   "metadata": {},
   "outputs": [
    {
     "data": {
      "text/plain": [
       "Apartamento           18780\n",
       "Casa                    965\n",
       "Casa de Condomínio      901\n",
       "Quitinete               836\n",
       "Flat                    476\n",
       "Casa de Vila            249\n",
       "Loft                     51\n",
       "Studio                    4\n",
       "Name: Tipo, dtype: int64"
      ]
     },
     "execution_count": 104,
     "metadata": {},
     "output_type": "execute_result"
    }
   ],
   "source": [
    "dados['Tipo'].value_counts()"
   ]
  },
  {
   "cell_type": "code",
   "execution_count": 105,
   "id": "00032c22",
   "metadata": {},
   "outputs": [
    {
     "data": {
      "text/plain": [
       "count    22262.00000\n",
       "mean       135.39664\n",
       "std        142.76856\n",
       "min         10.00000\n",
       "25%         64.00000\n",
       "50%         90.00000\n",
       "75%        150.00000\n",
       "max       3000.00000\n",
       "Name: Area, dtype: float64"
      ]
     },
     "execution_count": 105,
     "metadata": {},
     "output_type": "execute_result"
    }
   ],
   "source": [
    "dados['Area'].describe()"
   ]
  },
  {
   "cell_type": "code",
   "execution_count": 106,
   "id": "f4466d0b",
   "metadata": {},
   "outputs": [
    {
     "data": {
      "text/plain": [
       "<AxesSubplot:>"
      ]
     },
     "execution_count": 106,
     "metadata": {},
     "output_type": "execute_result"
    },
    {
     "data": {
      "image/png": "[encoded data removed]",
      "text/plain": [
       "<Figure size 1440x720 with 1 Axes>"
      ]
     },
     "metadata": {
      "needs_background": "light"
     },
     "output_type": "display_data"
    }
   ],
   "source": [
    "dados.boxplot(['Area'])"
   ]
  },
  {
   "cell_type": "code",
   "execution_count": 107,
   "id": "299d35af",
   "metadata": {},
   "outputs": [
    {
     "data": {
      "text/plain": [
       "<AxesSubplot:title={'center':'Valor'}, xlabel='[Tipo]'>"
      ]
     },
     "execution_count": 107,
     "metadata": {},
     "output_type": "execute_result"
    },
    {
     "data": {
      "image/png": "[encoded data removed]",
      "text/plain": [
       "<Figure size 1440x720 with 1 Axes>"
      ]
     },
     "metadata": {
      "needs_background": "light"
     },
     "output_type": "display_data"
    }
   ],
   "source": [
    "dados.boxplot(['Valor'], by = ['Tipo'])"
   ]
  },
  {
   "cell_type": "markdown",
   "id": "b57d4e8d",
   "metadata": {},
   "source": [
    "### Com base nas informações obtidas acima, vemos que há uma grande variação entre os dados, logo, para começar a direcionar as análises vamos definir alguns parâmetros e também definir quais perguntas queremos responder com essas análises:\n",
    "\n",
    "### 1) Perguntas a serem resposdidas:\n",
    "#### - Qual bairro mais barato?\n",
    "#### - Qual o bairro de valor médio?\n",
    "#### - Qual o bairro mais caro?\n",
    "#### - Quais os tipos de imóveis mais baratos e mais caros nos bairros identificados nas perguntas acima? Exemplo: O mais barato é uma casa de 50m² e o mais caro é um apartamento de 170m²\n",
    "\n",
    "### 2) Parâmetros:\n",
    "#### - Separar os imóveis por faixa de área, exemplo (De 10 a 40m², De 41 a 70m2 e assim por diante)\n",
    "#### - Separar por Tipo de Imóvel\n",
    "#### - Separar por Bairro"
   ]
  },
  {
   "cell_type": "markdown",
   "id": "0d055d79",
   "metadata": {},
   "source": [
    "### ------  Primeiro Vou criar um novo DataFrame Removendo os Valores Outliers."
   ]
  },
  {
   "cell_type": "code",
   "execution_count": 108,
   "id": "433ccc25",
   "metadata": {},
   "outputs": [
    {
     "data": {
      "text/html": [
       "<div>\n",
       "<style scoped>\n",
       "    .dataframe tbody tr th:only-of-type {\n",
       "        vertical-align: middle;\n",
       "    }\n",
       "\n",
       "    .dataframe tbody tr th {\n",
       "        vertical-align: top;\n",
       "    }\n",
       "\n",
       "    .dataframe thead th {\n",
       "        text-align: right;\n",
       "    }\n",
       "</style>\n",
       "<table border=\"1\" class=\"dataframe\">\n",
       "  <thead>\n",
       "    <tr style=\"text-align: right;\">\n",
       "      <th></th>\n",
       "      <th>Tipo</th>\n",
       "      <th>Bairro</th>\n",
       "      <th>Quartos</th>\n",
       "      <th>Vagas</th>\n",
       "      <th>Suites</th>\n",
       "      <th>Area</th>\n",
       "      <th>Valor</th>\n",
       "      <th>Condominio</th>\n",
       "      <th>IPTU</th>\n",
       "      <th>Grupo</th>\n",
       "      <th>Valor_Total</th>\n",
       "    </tr>\n",
       "  </thead>\n",
       "  <tbody>\n",
       "    <tr>\n",
       "      <th>7787</th>\n",
       "      <td>Apartamento</td>\n",
       "      <td>Barra da Tijuca</td>\n",
       "      <td>1</td>\n",
       "      <td>1</td>\n",
       "      <td>0</td>\n",
       "      <td>65</td>\n",
       "      <td>600000.0</td>\n",
       "      <td>980.0</td>\n",
       "      <td>120.0</td>\n",
       "      <td>Apartamento</td>\n",
       "      <td>601100.0</td>\n",
       "    </tr>\n",
       "    <tr>\n",
       "      <th>10858</th>\n",
       "      <td>Casa de Condomínio</td>\n",
       "      <td>Freguesia (Jacarepaguá)</td>\n",
       "      <td>4</td>\n",
       "      <td>2</td>\n",
       "      <td>3</td>\n",
       "      <td>163</td>\n",
       "      <td>800000.0</td>\n",
       "      <td>900.0</td>\n",
       "      <td>0.0</td>\n",
       "      <td>Casa</td>\n",
       "      <td>800900.0</td>\n",
       "    </tr>\n",
       "    <tr>\n",
       "      <th>12928</th>\n",
       "      <td>Apartamento</td>\n",
       "      <td>Freguesia (Jacarepaguá)</td>\n",
       "      <td>2</td>\n",
       "      <td>2</td>\n",
       "      <td>1</td>\n",
       "      <td>150</td>\n",
       "      <td>550000.0</td>\n",
       "      <td>850.0</td>\n",
       "      <td>150.0</td>\n",
       "      <td>Apartamento</td>\n",
       "      <td>551000.0</td>\n",
       "    </tr>\n",
       "    <tr>\n",
       "      <th>14129</th>\n",
       "      <td>Apartamento</td>\n",
       "      <td>Recreio dos Bandeirantes</td>\n",
       "      <td>3</td>\n",
       "      <td>2</td>\n",
       "      <td>1</td>\n",
       "      <td>167</td>\n",
       "      <td>1250000.0</td>\n",
       "      <td>1186.0</td>\n",
       "      <td>320.0</td>\n",
       "      <td>Apartamento</td>\n",
       "      <td>1251506.0</td>\n",
       "    </tr>\n",
       "    <tr>\n",
       "      <th>15837</th>\n",
       "      <td>Apartamento</td>\n",
       "      <td>Botafogo</td>\n",
       "      <td>4</td>\n",
       "      <td>1</td>\n",
       "      <td>1</td>\n",
       "      <td>300</td>\n",
       "      <td>4500000.0</td>\n",
       "      <td>1100.0</td>\n",
       "      <td>0.0</td>\n",
       "      <td>Apartamento</td>\n",
       "      <td>4501100.0</td>\n",
       "    </tr>\n",
       "  </tbody>\n",
       "</table>\n",
       "</div>"
      ],
      "text/plain": [
       "                     Tipo                    Bairro  Quartos  Vagas  Suites  \\\n",
       "7787          Apartamento           Barra da Tijuca        1      1       0   \n",
       "10858  Casa de Condomínio   Freguesia (Jacarepaguá)        4      2       3   \n",
       "12928         Apartamento   Freguesia (Jacarepaguá)        2      2       1   \n",
       "14129         Apartamento  Recreio dos Bandeirantes        3      2       1   \n",
       "15837         Apartamento                  Botafogo        4      1       1   \n",
       "\n",
       "       Area      Valor  Condominio   IPTU        Grupo  Valor_Total  \n",
       "7787     65   600000.0       980.0  120.0  Apartamento     601100.0  \n",
       "10858   163   800000.0       900.0    0.0         Casa     800900.0  \n",
       "12928   150   550000.0       850.0  150.0  Apartamento     551000.0  \n",
       "14129   167  1250000.0      1186.0  320.0  Apartamento    1251506.0  \n",
       "15837   300  4500000.0      1100.0    0.0  Apartamento    4501100.0  "
      ]
     },
     "execution_count": 108,
     "metadata": {},
     "output_type": "execute_result"
    }
   ],
   "source": [
    "dados[dados['Valor'] >= 500000]"
   ]
  },
  {
   "cell_type": "markdown",
   "id": "bf733255",
   "metadata": {},
   "source": [
    "### ----- Para eliminar esses outliers faremos as etapas a seguir:"
   ]
  },
  {
   "cell_type": "code",
   "execution_count": 109,
   "id": "41173a25",
   "metadata": {},
   "outputs": [],
   "source": [
    "valor = dados['Valor']"
   ]
  },
  {
   "cell_type": "markdown",
   "id": "9e528183",
   "metadata": {},
   "source": [
    "#### ----- Abaixo são as métricas padrão para calcular os limites mostrados em um boxplot, e que são extraidos do nosso dataframe"
   ]
  },
  {
   "cell_type": "code",
   "execution_count": 110,
   "id": "88ff42ea",
   "metadata": {},
   "outputs": [],
   "source": [
    "Q1 = valor.quantile(.25)\n",
    "Q3 = valor.quantile(.75)\n",
    "IIQ = Q3 - Q1\n",
    "limite_inferior = Q1 - 1.5*IIQ\n",
    "limite_superior = Q3 + 1.5*IIQ"
   ]
  },
  {
   "cell_type": "code",
   "execution_count": 111,
   "id": "e054a786",
   "metadata": {},
   "outputs": [],
   "source": [
    "selecao = (valor >= limite_inferior) & (valor <= limite_superior)\n",
    "dados_new = dados[selecao]"
   ]
  },
  {
   "cell_type": "code",
   "execution_count": 112,
   "id": "48c872e9",
   "metadata": {},
   "outputs": [
    {
     "data": {
      "text/plain": [
       "<AxesSubplot:>"
      ]
     },
     "execution_count": 112,
     "metadata": {},
     "output_type": "execute_result"
    },
    {
     "data": {
      "image/png": "[encoded data removed]",
      "text/plain": [
       "<Figure size 1440x720 with 1 Axes>"
      ]
     },
     "metadata": {
      "needs_background": "light"
     },
     "output_type": "display_data"
    }
   ],
   "source": [
    "dados_new.boxplot(['Valor'])"
   ]
  },
  {
   "cell_type": "code",
   "execution_count": 113,
   "id": "a7f19c39",
   "metadata": {},
   "outputs": [
    {
     "data": {
      "text/plain": [
       "<AxesSubplot:title={'center':'Valor'}, xlabel='[Tipo]'>"
      ]
     },
     "execution_count": 113,
     "metadata": {},
     "output_type": "execute_result"
    },
    {
     "data": {
      "image/png": "[encoded data removed]",
      "text/plain": [
       "<Figure size 1440x720 with 1 Axes>"
      ]
     },
     "metadata": {
      "needs_background": "light"
     },
     "output_type": "display_data"
    }
   ],
   "source": [
    "dados_new.boxplot(['Valor'], by = ['Tipo'])"
   ]
  },
  {
   "cell_type": "markdown",
   "id": "f71510c5",
   "metadata": {},
   "source": [
    "#### ----- Vendo o gráfico acima notamos que ainda existem outliers dentro de cada tipo de imóvel, logo, para filtrar e melhorar ainda mais nossos dados, vamos criar um laço para remover os outliers de cada tipo de imóvel."
   ]
  },
  {
   "cell_type": "code",
   "execution_count": 114,
   "id": "46fc1705",
   "metadata": {},
   "outputs": [],
   "source": [
    "grupo_tipo = dados_new.groupby('Tipo')"
   ]
  },
  {
   "cell_type": "code",
   "execution_count": 115,
   "id": "3bd93463",
   "metadata": {},
   "outputs": [
    {
     "data": {
      "text/plain": [
       "pandas.core.groupby.generic.DataFrameGroupBy"
      ]
     },
     "execution_count": 115,
     "metadata": {},
     "output_type": "execute_result"
    }
   ],
   "source": [
    "type(grupo_tipo)"
   ]
  },
  {
   "cell_type": "code",
   "execution_count": 116,
   "id": "638e1c4f",
   "metadata": {},
   "outputs": [],
   "source": [
    "dados_filtrados = pd.DataFrame()\n",
    "\n",
    "for tipo, dft in grupo_tipo:\n",
    "    valor = dft['Valor']\n",
    "    Q1 = valor.quantile(.25)\n",
    "    Q3 = valor.quantile(.75)\n",
    "    IIQ = Q3 - Q1\n",
    "    limite_inferior = Q1 - 1.5*IIQ\n",
    "    limite_superior = Q3 + 1.5*IIQ\n",
    "\n",
    "    dentro_limite = (dft['Valor'] >= limite_inferior) & (dft['Valor'] <= limite_superior)\n",
    "    dados_selecao = dft[dentro_limite]\n",
    "    dados_filtrados = pd.concat([dados_filtrados, dados_selecao])\n",
    "    \n",
    "    \n",
    "#     print('Inferior = {} e Superior = {}'.format(limite_inferior, limite_superior))\n"
   ]
  },
  {
   "cell_type": "code",
   "execution_count": 117,
   "id": "b0a9c611",
   "metadata": {},
   "outputs": [
    {
     "data": {
      "text/plain": [
       "20265"
      ]
     },
     "execution_count": 117,
     "metadata": {},
     "output_type": "execute_result"
    }
   ],
   "source": [
    "dados_new.shape[0]"
   ]
  },
  {
   "cell_type": "code",
   "execution_count": 118,
   "id": "02102681",
   "metadata": {},
   "outputs": [
    {
     "data": {
      "text/plain": [
       "19413"
      ]
     },
     "execution_count": 118,
     "metadata": {},
     "output_type": "execute_result"
    }
   ],
   "source": [
    "dados_filtrados.shape[0]"
   ]
  },
  {
   "cell_type": "markdown",
   "id": "9f62c7f0",
   "metadata": {},
   "source": [
    "#### Os números acima mostram a diferença na quantidade de itens nos dois DataFrames, logo, confirmamos que foram removidos um total de 20265 - 19413 = 852 imóveis do DataFrame"
   ]
  },
  {
   "cell_type": "code",
   "execution_count": 119,
   "id": "6c934504",
   "metadata": {},
   "outputs": [
    {
     "data": {
      "text/plain": [
       "<AxesSubplot:title={'center':'Valor'}, xlabel='[Tipo]'>"
      ]
     },
     "execution_count": 119,
     "metadata": {},
     "output_type": "execute_result"
    },
    {
     "data": {
      "image/png": "[encoded data removed]",
      "text/plain": [
       "<Figure size 1440x720 with 1 Axes>"
      ]
     },
     "metadata": {
      "needs_background": "light"
     },
     "output_type": "display_data"
    }
   ],
   "source": [
    "grupo_tipo2 = dados_filtrados.groupby('Tipo')\n",
    "dados_filtrados.boxplot(['Valor'], by = ['Tipo'])"
   ]
  },
  {
   "cell_type": "code",
   "execution_count": 120,
   "id": "2a93a0e8",
   "metadata": {},
   "outputs": [
    {
     "data": {
      "text/plain": [
       "array([[<AxesSubplot:title={'center':'Apartamento'}>,\n",
       "        <AxesSubplot:title={'center':'Casa'}>,\n",
       "        <AxesSubplot:title={'center':'Casa de Condomínio'}>],\n",
       "       [<AxesSubplot:title={'center':'Casa de Vila'}>,\n",
       "        <AxesSubplot:title={'center':'Flat'}>,\n",
       "        <AxesSubplot:title={'center':'Loft'}>],\n",
       "       [<AxesSubplot:title={'center':'Quitinete'}>,\n",
       "        <AxesSubplot:title={'center':'Studio'}>, <AxesSubplot:>]],\n",
       "      dtype=object)"
      ]
     },
     "execution_count": 120,
     "metadata": {},
     "output_type": "execute_result"
    },
    {
     "data": {
      "image/png": "[encoded data removed]",
      "text/plain": [
       "<Figure size 1440x720 with 9 Axes>"
      ]
     },
     "metadata": {
      "needs_background": "light"
     },
     "output_type": "display_data"
    }
   ],
   "source": [
    "dados_filtrados.hist(['Valor'], by = ['Tipo'])"
   ]
  },
  {
   "cell_type": "markdown",
   "id": "74fb0cd1",
   "metadata": {},
   "source": [
    "### Agora farei um agrupamento por bairro e depois farei uma análise dos valores por bairro e depois quais tipos de imóveis estão nos bairros selecionados"
   ]
  },
  {
   "cell_type": "code",
   "execution_count": 121,
   "id": "46797c14",
   "metadata": {},
   "outputs": [],
   "source": [
    "grupo_bairro = dados_filtrados.groupby(['Bairro'])"
   ]
  },
  {
   "cell_type": "code",
   "execution_count": 122,
   "id": "d0305624",
   "metadata": {},
   "outputs": [
    {
     "data": {
      "text/html": [
       "<div>\n",
       "<style scoped>\n",
       "    .dataframe tbody tr th:only-of-type {\n",
       "        vertical-align: middle;\n",
       "    }\n",
       "\n",
       "    .dataframe tbody tr th {\n",
       "        vertical-align: top;\n",
       "    }\n",
       "\n",
       "    .dataframe thead th {\n",
       "        text-align: right;\n",
       "    }\n",
       "</style>\n",
       "<table border=\"1\" class=\"dataframe\">\n",
       "  <thead>\n",
       "    <tr style=\"text-align: right;\">\n",
       "      <th></th>\n",
       "      <th>count</th>\n",
       "      <th>mean</th>\n",
       "      <th>std</th>\n",
       "      <th>min</th>\n",
       "      <th>25%</th>\n",
       "      <th>50%</th>\n",
       "      <th>75%</th>\n",
       "      <th>max</th>\n",
       "    </tr>\n",
       "    <tr>\n",
       "      <th>Bairro</th>\n",
       "      <th></th>\n",
       "      <th></th>\n",
       "      <th></th>\n",
       "      <th></th>\n",
       "      <th></th>\n",
       "      <th></th>\n",
       "      <th></th>\n",
       "      <th></th>\n",
       "    </tr>\n",
       "  </thead>\n",
       "  <tbody>\n",
       "    <tr>\n",
       "      <th>Abolição</th>\n",
       "      <td>15.0</td>\n",
       "      <td>1195.333333</td>\n",
       "      <td>425.321167</td>\n",
       "      <td>800.0</td>\n",
       "      <td>900.0</td>\n",
       "      <td>1180.0</td>\n",
       "      <td>1200.0</td>\n",
       "      <td>2300.0</td>\n",
       "    </tr>\n",
       "    <tr>\n",
       "      <th>Alto da Boa Vista</th>\n",
       "      <td>5.0</td>\n",
       "      <td>1760.000000</td>\n",
       "      <td>1216.244219</td>\n",
       "      <td>600.0</td>\n",
       "      <td>1000.0</td>\n",
       "      <td>1600.0</td>\n",
       "      <td>1850.0</td>\n",
       "      <td>3750.0</td>\n",
       "    </tr>\n",
       "    <tr>\n",
       "      <th>Anchieta</th>\n",
       "      <td>4.0</td>\n",
       "      <td>875.000000</td>\n",
       "      <td>132.287566</td>\n",
       "      <td>700.0</td>\n",
       "      <td>812.5</td>\n",
       "      <td>900.0</td>\n",
       "      <td>962.5</td>\n",
       "      <td>1000.0</td>\n",
       "    </tr>\n",
       "    <tr>\n",
       "      <th>Andaraí</th>\n",
       "      <td>97.0</td>\n",
       "      <td>1464.711340</td>\n",
       "      <td>408.105582</td>\n",
       "      <td>700.0</td>\n",
       "      <td>1200.0</td>\n",
       "      <td>1400.0</td>\n",
       "      <td>1650.0</td>\n",
       "      <td>2950.0</td>\n",
       "    </tr>\n",
       "    <tr>\n",
       "      <th>Anil</th>\n",
       "      <td>71.0</td>\n",
       "      <td>2048.873239</td>\n",
       "      <td>1523.974643</td>\n",
       "      <td>300.0</td>\n",
       "      <td>1100.0</td>\n",
       "      <td>1500.0</td>\n",
       "      <td>2675.0</td>\n",
       "      <td>7000.0</td>\n",
       "    </tr>\n",
       "    <tr>\n",
       "      <th>...</th>\n",
       "      <td>...</td>\n",
       "      <td>...</td>\n",
       "      <td>...</td>\n",
       "      <td>...</td>\n",
       "      <td>...</td>\n",
       "      <td>...</td>\n",
       "      <td>...</td>\n",
       "      <td>...</td>\n",
       "    </tr>\n",
       "    <tr>\n",
       "      <th>Vila Valqueire</th>\n",
       "      <td>47.0</td>\n",
       "      <td>1466.808511</td>\n",
       "      <td>680.316762</td>\n",
       "      <td>800.0</td>\n",
       "      <td>1000.0</td>\n",
       "      <td>1200.0</td>\n",
       "      <td>1650.0</td>\n",
       "      <td>4500.0</td>\n",
       "    </tr>\n",
       "    <tr>\n",
       "      <th>Vila da Penha</th>\n",
       "      <td>104.0</td>\n",
       "      <td>1260.576923</td>\n",
       "      <td>644.656644</td>\n",
       "      <td>450.0</td>\n",
       "      <td>900.0</td>\n",
       "      <td>1100.0</td>\n",
       "      <td>1302.5</td>\n",
       "      <td>4500.0</td>\n",
       "    </tr>\n",
       "    <tr>\n",
       "      <th>Vista Alegre</th>\n",
       "      <td>16.0</td>\n",
       "      <td>1114.375000</td>\n",
       "      <td>199.598555</td>\n",
       "      <td>700.0</td>\n",
       "      <td>1012.5</td>\n",
       "      <td>1200.0</td>\n",
       "      <td>1225.0</td>\n",
       "      <td>1400.0</td>\n",
       "    </tr>\n",
       "    <tr>\n",
       "      <th>Zumbi</th>\n",
       "      <td>2.0</td>\n",
       "      <td>2150.000000</td>\n",
       "      <td>777.817459</td>\n",
       "      <td>1600.0</td>\n",
       "      <td>1875.0</td>\n",
       "      <td>2150.0</td>\n",
       "      <td>2425.0</td>\n",
       "      <td>2700.0</td>\n",
       "    </tr>\n",
       "    <tr>\n",
       "      <th>Água Santa</th>\n",
       "      <td>9.0</td>\n",
       "      <td>861.111111</td>\n",
       "      <td>174.602724</td>\n",
       "      <td>600.0</td>\n",
       "      <td>800.0</td>\n",
       "      <td>850.0</td>\n",
       "      <td>950.0</td>\n",
       "      <td>1200.0</td>\n",
       "    </tr>\n",
       "  </tbody>\n",
       "</table>\n",
       "<p>151 rows × 8 columns</p>\n",
       "</div>"
      ],
      "text/plain": [
       "                   count         mean          std     min     25%     50%  \\\n",
       "Bairro                                                                       \n",
       "Abolição            15.0  1195.333333   425.321167   800.0   900.0  1180.0   \n",
       "Alto da Boa Vista    5.0  1760.000000  1216.244219   600.0  1000.0  1600.0   \n",
       "Anchieta             4.0   875.000000   132.287566   700.0   812.5   900.0   \n",
       "Andaraí             97.0  1464.711340   408.105582   700.0  1200.0  1400.0   \n",
       "Anil                71.0  2048.873239  1523.974643   300.0  1100.0  1500.0   \n",
       "...                  ...          ...          ...     ...     ...     ...   \n",
       "Vila Valqueire      47.0  1466.808511   680.316762   800.0  1000.0  1200.0   \n",
       "Vila da Penha      104.0  1260.576923   644.656644   450.0   900.0  1100.0   \n",
       "Vista Alegre        16.0  1114.375000   199.598555   700.0  1012.5  1200.0   \n",
       "Zumbi                2.0  2150.000000   777.817459  1600.0  1875.0  2150.0   \n",
       "Água Santa           9.0   861.111111   174.602724   600.0   800.0   850.0   \n",
       "\n",
       "                      75%     max  \n",
       "Bairro                             \n",
       "Abolição           1200.0  2300.0  \n",
       "Alto da Boa Vista  1850.0  3750.0  \n",
       "Anchieta            962.5  1000.0  \n",
       "Andaraí            1650.0  2950.0  \n",
       "Anil               2675.0  7000.0  \n",
       "...                   ...     ...  \n",
       "Vila Valqueire     1650.0  4500.0  \n",
       "Vila da Penha      1302.5  4500.0  \n",
       "Vista Alegre       1225.0  1400.0  \n",
       "Zumbi              2425.0  2700.0  \n",
       "Água Santa          950.0  1200.0  \n",
       "\n",
       "[151 rows x 8 columns]"
      ]
     },
     "execution_count": 122,
     "metadata": {},
     "output_type": "execute_result"
    }
   ],
   "source": [
    "grupo_bairro.Valor.describe()"
   ]
  },
  {
   "cell_type": "code",
   "execution_count": null,
   "id": "8414ad45",
   "metadata": {},
   "outputs": [],
   "source": []
  },
  {
   "cell_type": "code",
   "execution_count": 123,
   "id": "c933534e",
   "metadata": {},
   "outputs": [],
   "source": [
    "df_filtrados = pd.DataFrame()\n",
    "\n",
    "for bairro, dft in grupo_bairro:\n",
    "    valor = dft['Valor_Total']\n",
    "    Q1 = valor.quantile(.25)\n",
    "    Q3 = valor.quantile(.75)\n",
    "    IIQ = Q3 - Q1\n",
    "    limite_inferior = Q1 - 1.5*IIQ\n",
    "    limite_superior = Q3 + 1.5*IIQ\n",
    "\n",
    "    dentro_limite = (dft['Valor_Total'] >= limite_inferior) & (dft['Valor_Total'] <= limite_superior)\n",
    "    dados_selecao = dft[dentro_limite]\n",
    "    df_filtrados = pd.concat([df_filtrados, dados_selecao])"
   ]
  },
  {
   "cell_type": "code",
   "execution_count": 124,
   "id": "73698400",
   "metadata": {},
   "outputs": [
    {
     "data": {
      "text/html": [
       "<div>\n",
       "<style scoped>\n",
       "    .dataframe tbody tr th:only-of-type {\n",
       "        vertical-align: middle;\n",
       "    }\n",
       "\n",
       "    .dataframe tbody tr th {\n",
       "        vertical-align: top;\n",
       "    }\n",
       "\n",
       "    .dataframe thead th {\n",
       "        text-align: right;\n",
       "    }\n",
       "</style>\n",
       "<table border=\"1\" class=\"dataframe\">\n",
       "  <thead>\n",
       "    <tr style=\"text-align: right;\">\n",
       "      <th></th>\n",
       "      <th>Tipo</th>\n",
       "      <th>Bairro</th>\n",
       "      <th>Quartos</th>\n",
       "      <th>Vagas</th>\n",
       "      <th>Suites</th>\n",
       "      <th>Area</th>\n",
       "      <th>Valor</th>\n",
       "      <th>Condominio</th>\n",
       "      <th>IPTU</th>\n",
       "      <th>Grupo</th>\n",
       "      <th>Valor_Total</th>\n",
       "    </tr>\n",
       "  </thead>\n",
       "  <tbody>\n",
       "    <tr>\n",
       "      <th>3250</th>\n",
       "      <td>Apartamento</td>\n",
       "      <td>Abolição</td>\n",
       "      <td>2</td>\n",
       "      <td>2</td>\n",
       "      <td>0</td>\n",
       "      <td>81</td>\n",
       "      <td>850.0</td>\n",
       "      <td>350.0</td>\n",
       "      <td>49.0</td>\n",
       "      <td>Apartamento</td>\n",
       "      <td>1249.0</td>\n",
       "    </tr>\n",
       "    <tr>\n",
       "      <th>7095</th>\n",
       "      <td>Apartamento</td>\n",
       "      <td>Abolição</td>\n",
       "      <td>2</td>\n",
       "      <td>1</td>\n",
       "      <td>0</td>\n",
       "      <td>65</td>\n",
       "      <td>1300.0</td>\n",
       "      <td>280.0</td>\n",
       "      <td>0.0</td>\n",
       "      <td>Apartamento</td>\n",
       "      <td>1580.0</td>\n",
       "    </tr>\n",
       "    <tr>\n",
       "      <th>7793</th>\n",
       "      <td>Apartamento</td>\n",
       "      <td>Abolição</td>\n",
       "      <td>2</td>\n",
       "      <td>0</td>\n",
       "      <td>0</td>\n",
       "      <td>50</td>\n",
       "      <td>1000.0</td>\n",
       "      <td>250.0</td>\n",
       "      <td>0.0</td>\n",
       "      <td>Apartamento</td>\n",
       "      <td>1250.0</td>\n",
       "    </tr>\n",
       "    <tr>\n",
       "      <th>13443</th>\n",
       "      <td>Apartamento</td>\n",
       "      <td>Abolição</td>\n",
       "      <td>2</td>\n",
       "      <td>0</td>\n",
       "      <td>0</td>\n",
       "      <td>45</td>\n",
       "      <td>1200.0</td>\n",
       "      <td>65.0</td>\n",
       "      <td>10.0</td>\n",
       "      <td>Apartamento</td>\n",
       "      <td>1275.0</td>\n",
       "    </tr>\n",
       "    <tr>\n",
       "      <th>14476</th>\n",
       "      <td>Apartamento</td>\n",
       "      <td>Abolição</td>\n",
       "      <td>2</td>\n",
       "      <td>0</td>\n",
       "      <td>0</td>\n",
       "      <td>43</td>\n",
       "      <td>800.0</td>\n",
       "      <td>341.0</td>\n",
       "      <td>14.0</td>\n",
       "      <td>Apartamento</td>\n",
       "      <td>1155.0</td>\n",
       "    </tr>\n",
       "    <tr>\n",
       "      <th>...</th>\n",
       "      <td>...</td>\n",
       "      <td>...</td>\n",
       "      <td>...</td>\n",
       "      <td>...</td>\n",
       "      <td>...</td>\n",
       "      <td>...</td>\n",
       "      <td>...</td>\n",
       "      <td>...</td>\n",
       "      <td>...</td>\n",
       "      <td>...</td>\n",
       "      <td>...</td>\n",
       "    </tr>\n",
       "    <tr>\n",
       "      <th>13771</th>\n",
       "      <td>Apartamento</td>\n",
       "      <td>Água Santa</td>\n",
       "      <td>2</td>\n",
       "      <td>0</td>\n",
       "      <td>0</td>\n",
       "      <td>60</td>\n",
       "      <td>850.0</td>\n",
       "      <td>120.0</td>\n",
       "      <td>13.0</td>\n",
       "      <td>Apartamento</td>\n",
       "      <td>983.0</td>\n",
       "    </tr>\n",
       "    <tr>\n",
       "      <th>14063</th>\n",
       "      <td>Apartamento</td>\n",
       "      <td>Água Santa</td>\n",
       "      <td>2</td>\n",
       "      <td>0</td>\n",
       "      <td>0</td>\n",
       "      <td>83</td>\n",
       "      <td>950.0</td>\n",
       "      <td>150.0</td>\n",
       "      <td>37.0</td>\n",
       "      <td>Apartamento</td>\n",
       "      <td>1137.0</td>\n",
       "    </tr>\n",
       "    <tr>\n",
       "      <th>14482</th>\n",
       "      <td>Apartamento</td>\n",
       "      <td>Água Santa</td>\n",
       "      <td>2</td>\n",
       "      <td>1</td>\n",
       "      <td>0</td>\n",
       "      <td>50</td>\n",
       "      <td>800.0</td>\n",
       "      <td>310.0</td>\n",
       "      <td>0.0</td>\n",
       "      <td>Apartamento</td>\n",
       "      <td>1110.0</td>\n",
       "    </tr>\n",
       "    <tr>\n",
       "      <th>17006</th>\n",
       "      <td>Apartamento</td>\n",
       "      <td>Água Santa</td>\n",
       "      <td>2</td>\n",
       "      <td>1</td>\n",
       "      <td>0</td>\n",
       "      <td>58</td>\n",
       "      <td>700.0</td>\n",
       "      <td>500.0</td>\n",
       "      <td>35.0</td>\n",
       "      <td>Apartamento</td>\n",
       "      <td>1235.0</td>\n",
       "    </tr>\n",
       "    <tr>\n",
       "      <th>17328</th>\n",
       "      <td>Casa</td>\n",
       "      <td>Água Santa</td>\n",
       "      <td>1</td>\n",
       "      <td>1</td>\n",
       "      <td>0</td>\n",
       "      <td>40</td>\n",
       "      <td>1200.0</td>\n",
       "      <td>0.0</td>\n",
       "      <td>14.0</td>\n",
       "      <td>Casa</td>\n",
       "      <td>1214.0</td>\n",
       "    </tr>\n",
       "  </tbody>\n",
       "</table>\n",
       "<p>18678 rows × 11 columns</p>\n",
       "</div>"
      ],
      "text/plain": [
       "              Tipo      Bairro  Quartos  Vagas  Suites  Area   Valor  \\\n",
       "3250   Apartamento    Abolição        2      2       0    81   850.0   \n",
       "7095   Apartamento    Abolição        2      1       0    65  1300.0   \n",
       "7793   Apartamento    Abolição        2      0       0    50  1000.0   \n",
       "13443  Apartamento    Abolição        2      0       0    45  1200.0   \n",
       "14476  Apartamento    Abolição        2      0       0    43   800.0   \n",
       "...            ...         ...      ...    ...     ...   ...     ...   \n",
       "13771  Apartamento  Água Santa        2      0       0    60   850.0   \n",
       "14063  Apartamento  Água Santa        2      0       0    83   950.0   \n",
       "14482  Apartamento  Água Santa        2      1       0    50   800.0   \n",
       "17006  Apartamento  Água Santa        2      1       0    58   700.0   \n",
       "17328         Casa  Água Santa        1      1       0    40  1200.0   \n",
       "\n",
       "       Condominio  IPTU        Grupo  Valor_Total  \n",
       "3250        350.0  49.0  Apartamento       1249.0  \n",
       "7095        280.0   0.0  Apartamento       1580.0  \n",
       "7793        250.0   0.0  Apartamento       1250.0  \n",
       "13443        65.0  10.0  Apartamento       1275.0  \n",
       "14476       341.0  14.0  Apartamento       1155.0  \n",
       "...           ...   ...          ...          ...  \n",
       "13771       120.0  13.0  Apartamento        983.0  \n",
       "14063       150.0  37.0  Apartamento       1137.0  \n",
       "14482       310.0   0.0  Apartamento       1110.0  \n",
       "17006       500.0  35.0  Apartamento       1235.0  \n",
       "17328         0.0  14.0         Casa       1214.0  \n",
       "\n",
       "[18678 rows x 11 columns]"
      ]
     },
     "execution_count": 124,
     "metadata": {},
     "output_type": "execute_result"
    }
   ],
   "source": [
    "df_filtrados"
   ]
  },
  {
   "cell_type": "code",
   "execution_count": 125,
   "id": "27c4b73c",
   "metadata": {},
   "outputs": [],
   "source": [
    "grupo_bairro = df_filtrados.groupby(['Bairro'])"
   ]
  },
  {
   "cell_type": "code",
   "execution_count": 126,
   "id": "ed9aae71",
   "metadata": {},
   "outputs": [],
   "source": [
    "grupo_bairro_analise = grupo_bairro['Valor_Total'].aggregate(['min', 'max', 'mean', 'count']).round(2).rename(columns = {'min': 'Min', 'max': 'Max', 'mean': 'Valor_Médio', 'count': 'Qtde_de_Imoveis'})"
   ]
  },
  {
   "cell_type": "code",
   "execution_count": 127,
   "id": "f50c98a2",
   "metadata": {},
   "outputs": [
    {
     "data": {
      "text/plain": [
       "pandas.core.frame.DataFrame"
      ]
     },
     "execution_count": 127,
     "metadata": {},
     "output_type": "execute_result"
    }
   ],
   "source": [
    "type(grupo_bairro_analise)"
   ]
  },
  {
   "cell_type": "code",
   "execution_count": 130,
   "id": "79f5368d",
   "metadata": {},
   "outputs": [],
   "source": [
    "grupo_bairro_selecao = grupo_bairro_analise['Qtde_de_Imoveis'] > 5\n",
    "grupo_bairro_analise = grupo_bairro_analise[grupo_bairro_selecao]"
   ]
  },
  {
   "cell_type": "code",
   "execution_count": 131,
   "id": "20e52a57",
   "metadata": {},
   "outputs": [],
   "source": [
    "grupo_bairro_analise = grupo_bairro_analise.reset_index()"
   ]
  },
  {
   "cell_type": "code",
   "execution_count": 132,
   "id": "675def8d",
   "metadata": {},
   "outputs": [
    {
     "data": {
      "text/html": [
       "<div>\n",
       "<style scoped>\n",
       "    .dataframe tbody tr th:only-of-type {\n",
       "        vertical-align: middle;\n",
       "    }\n",
       "\n",
       "    .dataframe tbody tr th {\n",
       "        vertical-align: top;\n",
       "    }\n",
       "\n",
       "    .dataframe thead th {\n",
       "        text-align: right;\n",
       "    }\n",
       "</style>\n",
       "<table border=\"1\" class=\"dataframe\">\n",
       "  <thead>\n",
       "    <tr style=\"text-align: right;\">\n",
       "      <th></th>\n",
       "      <th>Bairro</th>\n",
       "      <th>Min</th>\n",
       "      <th>Max</th>\n",
       "      <th>Valor_Médio</th>\n",
       "      <th>Qtde_de_Imoveis</th>\n",
       "    </tr>\n",
       "  </thead>\n",
       "  <tbody>\n",
       "    <tr>\n",
       "      <th>0</th>\n",
       "      <td>Abolição</td>\n",
       "      <td>1076.0</td>\n",
       "      <td>2000.0</td>\n",
       "      <td>1352.43</td>\n",
       "      <td>14</td>\n",
       "    </tr>\n",
       "    <tr>\n",
       "      <th>1</th>\n",
       "      <td>Andaraí</td>\n",
       "      <td>1253.0</td>\n",
       "      <td>2996.0</td>\n",
       "      <td>1967.93</td>\n",
       "      <td>95</td>\n",
       "    </tr>\n",
       "    <tr>\n",
       "      <th>2</th>\n",
       "      <td>Anil</td>\n",
       "      <td>326.0</td>\n",
       "      <td>6143.0</td>\n",
       "      <td>2346.29</td>\n",
       "      <td>66</td>\n",
       "    </tr>\n",
       "    <tr>\n",
       "      <th>3</th>\n",
       "      <td>Arpoador</td>\n",
       "      <td>5000.0</td>\n",
       "      <td>11711.0</td>\n",
       "      <td>8065.78</td>\n",
       "      <td>9</td>\n",
       "    </tr>\n",
       "    <tr>\n",
       "      <th>4</th>\n",
       "      <td>Bangu</td>\n",
       "      <td>400.0</td>\n",
       "      <td>1650.0</td>\n",
       "      <td>1113.72</td>\n",
       "      <td>18</td>\n",
       "    </tr>\n",
       "    <tr>\n",
       "      <th>5</th>\n",
       "      <td>Barra da Tijuca</td>\n",
       "      <td>1425.0</td>\n",
       "      <td>14700.0</td>\n",
       "      <td>5911.30</td>\n",
       "      <td>3010</td>\n",
       "    </tr>\n",
       "    <tr>\n",
       "      <th>6</th>\n",
       "      <td>Bento Ribeiro</td>\n",
       "      <td>480.0</td>\n",
       "      <td>2000.0</td>\n",
       "      <td>1096.77</td>\n",
       "      <td>22</td>\n",
       "    </tr>\n",
       "    <tr>\n",
       "      <th>7</th>\n",
       "      <td>Bonsucesso</td>\n",
       "      <td>600.0</td>\n",
       "      <td>2240.0</td>\n",
       "      <td>1445.96</td>\n",
       "      <td>56</td>\n",
       "    </tr>\n",
       "    <tr>\n",
       "      <th>8</th>\n",
       "      <td>Botafogo</td>\n",
       "      <td>850.0</td>\n",
       "      <td>9370.0</td>\n",
       "      <td>4290.93</td>\n",
       "      <td>869</td>\n",
       "    </tr>\n",
       "    <tr>\n",
       "      <th>9</th>\n",
       "      <td>Braz de Pina</td>\n",
       "      <td>450.0</td>\n",
       "      <td>2430.0</td>\n",
       "      <td>1206.63</td>\n",
       "      <td>19</td>\n",
       "    </tr>\n",
       "  </tbody>\n",
       "</table>\n",
       "</div>"
      ],
      "text/plain": [
       "            Bairro     Min      Max  Valor_Médio  Qtde_de_Imoveis\n",
       "0         Abolição  1076.0   2000.0      1352.43               14\n",
       "1          Andaraí  1253.0   2996.0      1967.93               95\n",
       "2             Anil   326.0   6143.0      2346.29               66\n",
       "3         Arpoador  5000.0  11711.0      8065.78                9\n",
       "4            Bangu   400.0   1650.0      1113.72               18\n",
       "5  Barra da Tijuca  1425.0  14700.0      5911.30             3010\n",
       "6    Bento Ribeiro   480.0   2000.0      1096.77               22\n",
       "7       Bonsucesso   600.0   2240.0      1445.96               56\n",
       "8         Botafogo   850.0   9370.0      4290.93              869\n",
       "9     Braz de Pina   450.0   2430.0      1206.63               19"
      ]
     },
     "execution_count": 132,
     "metadata": {},
     "output_type": "execute_result"
    }
   ],
   "source": [
    "grupo_bairro_analise.head(10)"
   ]
  },
  {
   "cell_type": "markdown",
   "id": "2d3f7f1b",
   "metadata": {},
   "source": [
    "#### Vou estabelecer a condição de só considerar os bairros com mais de 5 imóveis."
   ]
  },
  {
   "cell_type": "code",
   "execution_count": 133,
   "id": "10f2df11",
   "metadata": {},
   "outputs": [
    {
     "name": "stdout",
     "output_type": "stream",
     "text": [
      "O bairro mais BARATO é Gardênia Azul com valor de aluguel médio de R$ 496.88\n",
      "O bairro INTERMEDIÁRIO é Cachambi com valor de aluguel médio de R$ 1574.05\n",
      "O bairro mais CARO é Joá com valor de aluguel médio de R$ 10395.0\n"
     ]
    }
   ],
   "source": [
    "# Guardando os valores mínimo, mediano e máximo em variáveis para facilitar o uso depois.\n",
    "valor_medio_mais_barato = grupo_bairro_analise['Valor_Médio'].min()\n",
    "valor_medio_mais_caro = grupo_bairro_analise['Valor_Médio'].max()\n",
    "valor_medio_intermediario = grupo_bairro_analise['Valor_Médio'].median()\n",
    "\n",
    "\n",
    "# Cada variável do \"tipo verifica...\" guarda uma series booleana com True para o item que atende a comparação e False para os outros\n",
    "verifica_bairro_mais_barato = grupo_bairro_analise['Valor_Médio'] == valor_medio_mais_barato\n",
    "verifica_bairro_medio = grupo_bairro_analise['Valor_Médio'] == valor_medio_intermediario\n",
    "verifica_bairro_mais_caro = grupo_bairro_analise['Valor_Médio'] == valor_medio_mais_caro\n",
    "# Junta todas as verificações em uma só variável\n",
    "selecao = verifica_bairro_mais_barato & verifica_bairro_medio & verifica_bairro_mais_caro\n",
    "# Filtra o DataFrame \"grupo_bairro_analise\" com a seleção, ficando apenas os três bairros desejados\n",
    "grupo_bairro_selecao = grupo_bairro_analise[selecao]\n",
    "\n",
    "\n",
    "# Guarda na variável apenas a linha correspondente ao bairro desejado \n",
    "nome_bairro_mais_barato = grupo_bairro_analise[verifica_bairro_mais_barato]\n",
    "nome_bairro_medio = grupo_bairro_analise[verifica_bairro_medio]\n",
    "nome_bairro_mais_caro = grupo_bairro_analise[verifica_bairro_mais_caro]\n",
    "\n",
    "\n",
    "print('O bairro mais BARATO é {} com valor de aluguel médio de R$ {}'.format(nome_bairro_mais_barato.iloc[0, 0], valor_medio_mais_barato))\n",
    "print('O bairro INTERMEDIÁRIO é {} com valor de aluguel médio de R$ {}'.format(nome_bairro_medio.iloc[0, 0], valor_medio_intermediario))\n",
    "print('O bairro mais CARO é {} com valor de aluguel médio de R$ {}'.format(nome_bairro_mais_caro.iloc[0, 0], valor_medio_mais_caro))"
   ]
  },
  {
   "cell_type": "markdown",
   "id": "b80d2ad5",
   "metadata": {},
   "source": [
    "### Agora vou analisar cada bairro individualmente para encontrar qual imóvel mais barato e mais caro em cada um"
   ]
  },
  {
   "cell_type": "markdown",
   "id": "ce3c1dad",
   "metadata": {},
   "source": [
    "#### Analisando os imóveis do bairro mais barato que é o Gardênia Azul"
   ]
  },
  {
   "cell_type": "code",
   "execution_count": 134,
   "id": "a9a52bb4",
   "metadata": {},
   "outputs": [],
   "source": [
    "bairro_gardencia = grupo_bairro.get_group('Gardênia Azul')"
   ]
  },
  {
   "cell_type": "code",
   "execution_count": 135,
   "id": "a76fa3e8",
   "metadata": {},
   "outputs": [
    {
     "data": {
      "text/html": [
       "<div>\n",
       "<style scoped>\n",
       "    .dataframe tbody tr th:only-of-type {\n",
       "        vertical-align: middle;\n",
       "    }\n",
       "\n",
       "    .dataframe tbody tr th {\n",
       "        vertical-align: top;\n",
       "    }\n",
       "\n",
       "    .dataframe thead th {\n",
       "        text-align: right;\n",
       "    }\n",
       "</style>\n",
       "<table border=\"1\" class=\"dataframe\">\n",
       "  <thead>\n",
       "    <tr style=\"text-align: right;\">\n",
       "      <th></th>\n",
       "      <th>Tipo</th>\n",
       "      <th>Bairro</th>\n",
       "      <th>Quartos</th>\n",
       "      <th>Vagas</th>\n",
       "      <th>Suites</th>\n",
       "      <th>Area</th>\n",
       "      <th>Valor</th>\n",
       "      <th>Condominio</th>\n",
       "      <th>IPTU</th>\n",
       "      <th>Grupo</th>\n",
       "      <th>Valor_Total</th>\n",
       "    </tr>\n",
       "  </thead>\n",
       "  <tbody>\n",
       "    <tr>\n",
       "      <th>13283</th>\n",
       "      <td>Loft</td>\n",
       "      <td>Gardênia Azul</td>\n",
       "      <td>1</td>\n",
       "      <td>0</td>\n",
       "      <td>0</td>\n",
       "      <td>35</td>\n",
       "      <td>500.0</td>\n",
       "      <td>10.0</td>\n",
       "      <td>0.0</td>\n",
       "      <td>Apartamento</td>\n",
       "      <td>510.0</td>\n",
       "    </tr>\n",
       "    <tr>\n",
       "      <th>359</th>\n",
       "      <td>Quitinete</td>\n",
       "      <td>Gardênia Azul</td>\n",
       "      <td>1</td>\n",
       "      <td>0</td>\n",
       "      <td>0</td>\n",
       "      <td>20</td>\n",
       "      <td>485.0</td>\n",
       "      <td>0.0</td>\n",
       "      <td>0.0</td>\n",
       "      <td>Apartamento</td>\n",
       "      <td>485.0</td>\n",
       "    </tr>\n",
       "    <tr>\n",
       "      <th>2780</th>\n",
       "      <td>Quitinete</td>\n",
       "      <td>Gardênia Azul</td>\n",
       "      <td>1</td>\n",
       "      <td>0</td>\n",
       "      <td>0</td>\n",
       "      <td>25</td>\n",
       "      <td>500.0</td>\n",
       "      <td>0.0</td>\n",
       "      <td>0.0</td>\n",
       "      <td>Apartamento</td>\n",
       "      <td>500.0</td>\n",
       "    </tr>\n",
       "    <tr>\n",
       "      <th>5152</th>\n",
       "      <td>Quitinete</td>\n",
       "      <td>Gardênia Azul</td>\n",
       "      <td>1</td>\n",
       "      <td>0</td>\n",
       "      <td>0</td>\n",
       "      <td>25</td>\n",
       "      <td>490.0</td>\n",
       "      <td>15.0</td>\n",
       "      <td>0.0</td>\n",
       "      <td>Apartamento</td>\n",
       "      <td>505.0</td>\n",
       "    </tr>\n",
       "    <tr>\n",
       "      <th>9167</th>\n",
       "      <td>Quitinete</td>\n",
       "      <td>Gardênia Azul</td>\n",
       "      <td>1</td>\n",
       "      <td>0</td>\n",
       "      <td>0</td>\n",
       "      <td>20</td>\n",
       "      <td>500.0</td>\n",
       "      <td>0.0</td>\n",
       "      <td>0.0</td>\n",
       "      <td>Apartamento</td>\n",
       "      <td>500.0</td>\n",
       "    </tr>\n",
       "    <tr>\n",
       "      <th>13130</th>\n",
       "      <td>Quitinete</td>\n",
       "      <td>Gardênia Azul</td>\n",
       "      <td>1</td>\n",
       "      <td>0</td>\n",
       "      <td>0</td>\n",
       "      <td>30</td>\n",
       "      <td>500.0</td>\n",
       "      <td>0.0</td>\n",
       "      <td>0.0</td>\n",
       "      <td>Apartamento</td>\n",
       "      <td>500.0</td>\n",
       "    </tr>\n",
       "    <tr>\n",
       "      <th>18177</th>\n",
       "      <td>Quitinete</td>\n",
       "      <td>Gardênia Azul</td>\n",
       "      <td>1</td>\n",
       "      <td>0</td>\n",
       "      <td>0</td>\n",
       "      <td>18</td>\n",
       "      <td>485.0</td>\n",
       "      <td>0.0</td>\n",
       "      <td>0.0</td>\n",
       "      <td>Apartamento</td>\n",
       "      <td>485.0</td>\n",
       "    </tr>\n",
       "    <tr>\n",
       "      <th>21705</th>\n",
       "      <td>Quitinete</td>\n",
       "      <td>Gardênia Azul</td>\n",
       "      <td>1</td>\n",
       "      <td>0</td>\n",
       "      <td>0</td>\n",
       "      <td>25</td>\n",
       "      <td>490.0</td>\n",
       "      <td>0.0</td>\n",
       "      <td>0.0</td>\n",
       "      <td>Apartamento</td>\n",
       "      <td>490.0</td>\n",
       "    </tr>\n",
       "  </tbody>\n",
       "</table>\n",
       "</div>"
      ],
      "text/plain": [
       "            Tipo         Bairro  Quartos  Vagas  Suites  Area  Valor  \\\n",
       "13283       Loft  Gardênia Azul        1      0       0    35  500.0   \n",
       "359    Quitinete  Gardênia Azul        1      0       0    20  485.0   \n",
       "2780   Quitinete  Gardênia Azul        1      0       0    25  500.0   \n",
       "5152   Quitinete  Gardênia Azul        1      0       0    25  490.0   \n",
       "9167   Quitinete  Gardênia Azul        1      0       0    20  500.0   \n",
       "13130  Quitinete  Gardênia Azul        1      0       0    30  500.0   \n",
       "18177  Quitinete  Gardênia Azul        1      0       0    18  485.0   \n",
       "21705  Quitinete  Gardênia Azul        1      0       0    25  490.0   \n",
       "\n",
       "       Condominio  IPTU        Grupo  Valor_Total  \n",
       "13283        10.0   0.0  Apartamento        510.0  \n",
       "359           0.0   0.0  Apartamento        485.0  \n",
       "2780          0.0   0.0  Apartamento        500.0  \n",
       "5152         15.0   0.0  Apartamento        505.0  \n",
       "9167          0.0   0.0  Apartamento        500.0  \n",
       "13130         0.0   0.0  Apartamento        500.0  \n",
       "18177         0.0   0.0  Apartamento        485.0  \n",
       "21705         0.0   0.0  Apartamento        490.0  "
      ]
     },
     "execution_count": 135,
     "metadata": {},
     "output_type": "execute_result"
    }
   ],
   "source": [
    "bairro_gardencia"
   ]
  },
  {
   "cell_type": "code",
   "execution_count": 136,
   "id": "9229fc80",
   "metadata": {},
   "outputs": [
    {
     "data": {
      "text/html": [
       "<div>\n",
       "<style scoped>\n",
       "    .dataframe tbody tr th:only-of-type {\n",
       "        vertical-align: middle;\n",
       "    }\n",
       "\n",
       "    .dataframe tbody tr th {\n",
       "        vertical-align: top;\n",
       "    }\n",
       "\n",
       "    .dataframe thead th {\n",
       "        text-align: right;\n",
       "    }\n",
       "</style>\n",
       "<table border=\"1\" class=\"dataframe\">\n",
       "  <thead>\n",
       "    <tr style=\"text-align: right;\">\n",
       "      <th></th>\n",
       "      <th>Tipo</th>\n",
       "      <th>Bairro</th>\n",
       "      <th>Quartos</th>\n",
       "      <th>Vagas</th>\n",
       "      <th>Suites</th>\n",
       "      <th>Area</th>\n",
       "      <th>Valor</th>\n",
       "      <th>Condominio</th>\n",
       "      <th>IPTU</th>\n",
       "      <th>Grupo</th>\n",
       "      <th>Valor_Total</th>\n",
       "    </tr>\n",
       "  </thead>\n",
       "  <tbody>\n",
       "    <tr>\n",
       "      <th>359</th>\n",
       "      <td>Quitinete</td>\n",
       "      <td>Gardênia Azul</td>\n",
       "      <td>1</td>\n",
       "      <td>0</td>\n",
       "      <td>0</td>\n",
       "      <td>20</td>\n",
       "      <td>485.0</td>\n",
       "      <td>0.0</td>\n",
       "      <td>0.0</td>\n",
       "      <td>Apartamento</td>\n",
       "      <td>485.0</td>\n",
       "    </tr>\n",
       "    <tr>\n",
       "      <th>18177</th>\n",
       "      <td>Quitinete</td>\n",
       "      <td>Gardênia Azul</td>\n",
       "      <td>1</td>\n",
       "      <td>0</td>\n",
       "      <td>0</td>\n",
       "      <td>18</td>\n",
       "      <td>485.0</td>\n",
       "      <td>0.0</td>\n",
       "      <td>0.0</td>\n",
       "      <td>Apartamento</td>\n",
       "      <td>485.0</td>\n",
       "    </tr>\n",
       "  </tbody>\n",
       "</table>\n",
       "</div>"
      ],
      "text/plain": [
       "            Tipo         Bairro  Quartos  Vagas  Suites  Area  Valor  \\\n",
       "359    Quitinete  Gardênia Azul        1      0       0    20  485.0   \n",
       "18177  Quitinete  Gardênia Azul        1      0       0    18  485.0   \n",
       "\n",
       "       Condominio  IPTU        Grupo  Valor_Total  \n",
       "359           0.0   0.0  Apartamento        485.0  \n",
       "18177         0.0   0.0  Apartamento        485.0  "
      ]
     },
     "execution_count": 136,
     "metadata": {},
     "output_type": "execute_result"
    }
   ],
   "source": [
    "gardencia_imovel_barato = bairro_gardencia['Valor_Total'] == bairro_gardencia['Valor_Total'].min()\n",
    "gardencia_imovel_barato = bairro_gardencia[gardencia_imovel_barato]\n",
    "gardencia_imovel_barato"
   ]
  },
  {
   "cell_type": "code",
   "execution_count": 137,
   "id": "adf381e1",
   "metadata": {},
   "outputs": [
    {
     "data": {
      "text/html": [
       "<div>\n",
       "<style scoped>\n",
       "    .dataframe tbody tr th:only-of-type {\n",
       "        vertical-align: middle;\n",
       "    }\n",
       "\n",
       "    .dataframe tbody tr th {\n",
       "        vertical-align: top;\n",
       "    }\n",
       "\n",
       "    .dataframe thead th {\n",
       "        text-align: right;\n",
       "    }\n",
       "</style>\n",
       "<table border=\"1\" class=\"dataframe\">\n",
       "  <thead>\n",
       "    <tr style=\"text-align: right;\">\n",
       "      <th></th>\n",
       "      <th>Tipo</th>\n",
       "      <th>Bairro</th>\n",
       "      <th>Quartos</th>\n",
       "      <th>Vagas</th>\n",
       "      <th>Suites</th>\n",
       "      <th>Area</th>\n",
       "      <th>Valor</th>\n",
       "      <th>Condominio</th>\n",
       "      <th>IPTU</th>\n",
       "      <th>Grupo</th>\n",
       "      <th>Valor_Total</th>\n",
       "    </tr>\n",
       "  </thead>\n",
       "  <tbody>\n",
       "    <tr>\n",
       "      <th>13283</th>\n",
       "      <td>Loft</td>\n",
       "      <td>Gardênia Azul</td>\n",
       "      <td>1</td>\n",
       "      <td>0</td>\n",
       "      <td>0</td>\n",
       "      <td>35</td>\n",
       "      <td>500.0</td>\n",
       "      <td>10.0</td>\n",
       "      <td>0.0</td>\n",
       "      <td>Apartamento</td>\n",
       "      <td>510.0</td>\n",
       "    </tr>\n",
       "  </tbody>\n",
       "</table>\n",
       "</div>"
      ],
      "text/plain": [
       "       Tipo         Bairro  Quartos  Vagas  Suites  Area  Valor  Condominio  \\\n",
       "13283  Loft  Gardênia Azul        1      0       0    35  500.0        10.0   \n",
       "\n",
       "       IPTU        Grupo  Valor_Total  \n",
       "13283   0.0  Apartamento        510.0  "
      ]
     },
     "execution_count": 137,
     "metadata": {},
     "output_type": "execute_result"
    }
   ],
   "source": [
    "gardencia_imovel_caro = bairro_gardencia['Valor_Total'] == bairro_gardencia['Valor_Total'].max()\n",
    "gardencia_imovel_caro = bairro_gardencia[gardencia_imovel_caro]\n",
    "gardencia_imovel_caro"
   ]
  },
  {
   "cell_type": "markdown",
   "id": "cb11b42c",
   "metadata": {},
   "source": [
    "#### Analisando os imóveis do bairro de valor mediano que é o Cachambi"
   ]
  },
  {
   "cell_type": "code",
   "execution_count": 139,
   "id": "d9496c8c",
   "metadata": {},
   "outputs": [],
   "source": [
    "bairro_cachambi = grupo_bairro.get_group('Cachambi')"
   ]
  },
  {
   "cell_type": "code",
   "execution_count": 140,
   "id": "57f32177",
   "metadata": {},
   "outputs": [
    {
     "data": {
      "text/html": [
       "<div>\n",
       "<style scoped>\n",
       "    .dataframe tbody tr th:only-of-type {\n",
       "        vertical-align: middle;\n",
       "    }\n",
       "\n",
       "    .dataframe tbody tr th {\n",
       "        vertical-align: top;\n",
       "    }\n",
       "\n",
       "    .dataframe thead th {\n",
       "        text-align: right;\n",
       "    }\n",
       "</style>\n",
       "<table border=\"1\" class=\"dataframe\">\n",
       "  <thead>\n",
       "    <tr style=\"text-align: right;\">\n",
       "      <th></th>\n",
       "      <th>Tipo</th>\n",
       "      <th>Bairro</th>\n",
       "      <th>Quartos</th>\n",
       "      <th>Vagas</th>\n",
       "      <th>Suites</th>\n",
       "      <th>Area</th>\n",
       "      <th>Valor</th>\n",
       "      <th>Condominio</th>\n",
       "      <th>IPTU</th>\n",
       "      <th>Grupo</th>\n",
       "      <th>Valor_Total</th>\n",
       "    </tr>\n",
       "  </thead>\n",
       "  <tbody>\n",
       "    <tr>\n",
       "      <th>4</th>\n",
       "      <td>Apartamento</td>\n",
       "      <td>Cachambi</td>\n",
       "      <td>2</td>\n",
       "      <td>0</td>\n",
       "      <td>0</td>\n",
       "      <td>50</td>\n",
       "      <td>1300.0</td>\n",
       "      <td>301.0</td>\n",
       "      <td>17.0</td>\n",
       "      <td>Apartamento</td>\n",
       "      <td>1618.0</td>\n",
       "    </tr>\n",
       "    <tr>\n",
       "      <th>55</th>\n",
       "      <td>Apartamento</td>\n",
       "      <td>Cachambi</td>\n",
       "      <td>2</td>\n",
       "      <td>0</td>\n",
       "      <td>0</td>\n",
       "      <td>60</td>\n",
       "      <td>1000.0</td>\n",
       "      <td>380.0</td>\n",
       "      <td>280.0</td>\n",
       "      <td>Apartamento</td>\n",
       "      <td>1660.0</td>\n",
       "    </tr>\n",
       "    <tr>\n",
       "      <th>250</th>\n",
       "      <td>Apartamento</td>\n",
       "      <td>Cachambi</td>\n",
       "      <td>3</td>\n",
       "      <td>0</td>\n",
       "      <td>0</td>\n",
       "      <td>70</td>\n",
       "      <td>900.0</td>\n",
       "      <td>200.0</td>\n",
       "      <td>30.0</td>\n",
       "      <td>Apartamento</td>\n",
       "      <td>1130.0</td>\n",
       "    </tr>\n",
       "    <tr>\n",
       "      <th>255</th>\n",
       "      <td>Apartamento</td>\n",
       "      <td>Cachambi</td>\n",
       "      <td>2</td>\n",
       "      <td>1</td>\n",
       "      <td>0</td>\n",
       "      <td>70</td>\n",
       "      <td>950.0</td>\n",
       "      <td>530.0</td>\n",
       "      <td>30.0</td>\n",
       "      <td>Apartamento</td>\n",
       "      <td>1510.0</td>\n",
       "    </tr>\n",
       "    <tr>\n",
       "      <th>530</th>\n",
       "      <td>Apartamento</td>\n",
       "      <td>Cachambi</td>\n",
       "      <td>2</td>\n",
       "      <td>0</td>\n",
       "      <td>0</td>\n",
       "      <td>50</td>\n",
       "      <td>900.0</td>\n",
       "      <td>313.0</td>\n",
       "      <td>0.0</td>\n",
       "      <td>Apartamento</td>\n",
       "      <td>1213.0</td>\n",
       "    </tr>\n",
       "    <tr>\n",
       "      <th>...</th>\n",
       "      <td>...</td>\n",
       "      <td>...</td>\n",
       "      <td>...</td>\n",
       "      <td>...</td>\n",
       "      <td>...</td>\n",
       "      <td>...</td>\n",
       "      <td>...</td>\n",
       "      <td>...</td>\n",
       "      <td>...</td>\n",
       "      <td>...</td>\n",
       "      <td>...</td>\n",
       "    </tr>\n",
       "    <tr>\n",
       "      <th>17069</th>\n",
       "      <td>Casa de Condomínio</td>\n",
       "      <td>Cachambi</td>\n",
       "      <td>2</td>\n",
       "      <td>1</td>\n",
       "      <td>0</td>\n",
       "      <td>90</td>\n",
       "      <td>1100.0</td>\n",
       "      <td>280.0</td>\n",
       "      <td>0.0</td>\n",
       "      <td>Casa</td>\n",
       "      <td>1380.0</td>\n",
       "    </tr>\n",
       "    <tr>\n",
       "      <th>2122</th>\n",
       "      <td>Casa de Vila</td>\n",
       "      <td>Cachambi</td>\n",
       "      <td>2</td>\n",
       "      <td>0</td>\n",
       "      <td>0</td>\n",
       "      <td>59</td>\n",
       "      <td>1000.0</td>\n",
       "      <td>15.0</td>\n",
       "      <td>13.0</td>\n",
       "      <td>Casa</td>\n",
       "      <td>1028.0</td>\n",
       "    </tr>\n",
       "    <tr>\n",
       "      <th>9672</th>\n",
       "      <td>Casa de Vila</td>\n",
       "      <td>Cachambi</td>\n",
       "      <td>3</td>\n",
       "      <td>0</td>\n",
       "      <td>0</td>\n",
       "      <td>110</td>\n",
       "      <td>1700.0</td>\n",
       "      <td>0.0</td>\n",
       "      <td>0.0</td>\n",
       "      <td>Casa</td>\n",
       "      <td>1700.0</td>\n",
       "    </tr>\n",
       "    <tr>\n",
       "      <th>11700</th>\n",
       "      <td>Casa de Vila</td>\n",
       "      <td>Cachambi</td>\n",
       "      <td>2</td>\n",
       "      <td>1</td>\n",
       "      <td>0</td>\n",
       "      <td>76</td>\n",
       "      <td>1508.0</td>\n",
       "      <td>0.0</td>\n",
       "      <td>0.0</td>\n",
       "      <td>Casa</td>\n",
       "      <td>1508.0</td>\n",
       "    </tr>\n",
       "    <tr>\n",
       "      <th>19078</th>\n",
       "      <td>Casa de Vila</td>\n",
       "      <td>Cachambi</td>\n",
       "      <td>2</td>\n",
       "      <td>0</td>\n",
       "      <td>0</td>\n",
       "      <td>100</td>\n",
       "      <td>1600.0</td>\n",
       "      <td>0.0</td>\n",
       "      <td>0.0</td>\n",
       "      <td>Casa</td>\n",
       "      <td>1600.0</td>\n",
       "    </tr>\n",
       "  </tbody>\n",
       "</table>\n",
       "<p>127 rows × 11 columns</p>\n",
       "</div>"
      ],
      "text/plain": [
       "                     Tipo    Bairro  Quartos  Vagas  Suites  Area   Valor  \\\n",
       "4             Apartamento  Cachambi        2      0       0    50  1300.0   \n",
       "55            Apartamento  Cachambi        2      0       0    60  1000.0   \n",
       "250           Apartamento  Cachambi        3      0       0    70   900.0   \n",
       "255           Apartamento  Cachambi        2      1       0    70   950.0   \n",
       "530           Apartamento  Cachambi        2      0       0    50   900.0   \n",
       "...                   ...       ...      ...    ...     ...   ...     ...   \n",
       "17069  Casa de Condomínio  Cachambi        2      1       0    90  1100.0   \n",
       "2122         Casa de Vila  Cachambi        2      0       0    59  1000.0   \n",
       "9672         Casa de Vila  Cachambi        3      0       0   110  1700.0   \n",
       "11700        Casa de Vila  Cachambi        2      1       0    76  1508.0   \n",
       "19078        Casa de Vila  Cachambi        2      0       0   100  1600.0   \n",
       "\n",
       "       Condominio   IPTU        Grupo  Valor_Total  \n",
       "4           301.0   17.0  Apartamento       1618.0  \n",
       "55          380.0  280.0  Apartamento       1660.0  \n",
       "250         200.0   30.0  Apartamento       1130.0  \n",
       "255         530.0   30.0  Apartamento       1510.0  \n",
       "530         313.0    0.0  Apartamento       1213.0  \n",
       "...           ...    ...          ...          ...  \n",
       "17069       280.0    0.0         Casa       1380.0  \n",
       "2122         15.0   13.0         Casa       1028.0  \n",
       "9672          0.0    0.0         Casa       1700.0  \n",
       "11700         0.0    0.0         Casa       1508.0  \n",
       "19078         0.0    0.0         Casa       1600.0  \n",
       "\n",
       "[127 rows x 11 columns]"
      ]
     },
     "execution_count": 140,
     "metadata": {},
     "output_type": "execute_result"
    }
   ],
   "source": [
    "bairro_cachambi"
   ]
  },
  {
   "cell_type": "code",
   "execution_count": 141,
   "id": "443ff7c7",
   "metadata": {},
   "outputs": [
    {
     "data": {
      "text/html": [
       "<div>\n",
       "<style scoped>\n",
       "    .dataframe tbody tr th:only-of-type {\n",
       "        vertical-align: middle;\n",
       "    }\n",
       "\n",
       "    .dataframe tbody tr th {\n",
       "        vertical-align: top;\n",
       "    }\n",
       "\n",
       "    .dataframe thead th {\n",
       "        text-align: right;\n",
       "    }\n",
       "</style>\n",
       "<table border=\"1\" class=\"dataframe\">\n",
       "  <thead>\n",
       "    <tr style=\"text-align: right;\">\n",
       "      <th></th>\n",
       "      <th>Tipo</th>\n",
       "      <th>Bairro</th>\n",
       "      <th>Quartos</th>\n",
       "      <th>Vagas</th>\n",
       "      <th>Suites</th>\n",
       "      <th>Area</th>\n",
       "      <th>Valor</th>\n",
       "      <th>Condominio</th>\n",
       "      <th>IPTU</th>\n",
       "      <th>Grupo</th>\n",
       "      <th>Valor_Total</th>\n",
       "    </tr>\n",
       "  </thead>\n",
       "  <tbody>\n",
       "    <tr>\n",
       "      <th>21894</th>\n",
       "      <td>Apartamento</td>\n",
       "      <td>Cachambi</td>\n",
       "      <td>1</td>\n",
       "      <td>0</td>\n",
       "      <td>0</td>\n",
       "      <td>30</td>\n",
       "      <td>600.0</td>\n",
       "      <td>100.0</td>\n",
       "      <td>13.0</td>\n",
       "      <td>Apartamento</td>\n",
       "      <td>713.0</td>\n",
       "    </tr>\n",
       "  </tbody>\n",
       "</table>\n",
       "</div>"
      ],
      "text/plain": [
       "              Tipo    Bairro  Quartos  Vagas  Suites  Area  Valor  Condominio  \\\n",
       "21894  Apartamento  Cachambi        1      0       0    30  600.0       100.0   \n",
       "\n",
       "       IPTU        Grupo  Valor_Total  \n",
       "21894  13.0  Apartamento        713.0  "
      ]
     },
     "execution_count": 141,
     "metadata": {},
     "output_type": "execute_result"
    }
   ],
   "source": [
    "cachambi_imovel_barato = bairro_cachambi['Valor_Total'] == bairro_cachambi['Valor_Total'].min()\n",
    "cachambi_imovel_barato = bairro_cachambi[cachambi_imovel_barato]\n",
    "cachambi_imovel_barato"
   ]
  },
  {
   "cell_type": "code",
   "execution_count": 142,
   "id": "3883210f",
   "metadata": {},
   "outputs": [
    {
     "data": {
      "text/html": [
       "<div>\n",
       "<style scoped>\n",
       "    .dataframe tbody tr th:only-of-type {\n",
       "        vertical-align: middle;\n",
       "    }\n",
       "\n",
       "    .dataframe tbody tr th {\n",
       "        vertical-align: top;\n",
       "    }\n",
       "\n",
       "    .dataframe thead th {\n",
       "        text-align: right;\n",
       "    }\n",
       "</style>\n",
       "<table border=\"1\" class=\"dataframe\">\n",
       "  <thead>\n",
       "    <tr style=\"text-align: right;\">\n",
       "      <th></th>\n",
       "      <th>Tipo</th>\n",
       "      <th>Bairro</th>\n",
       "      <th>Quartos</th>\n",
       "      <th>Vagas</th>\n",
       "      <th>Suites</th>\n",
       "      <th>Area</th>\n",
       "      <th>Valor</th>\n",
       "      <th>Condominio</th>\n",
       "      <th>IPTU</th>\n",
       "      <th>Grupo</th>\n",
       "      <th>Valor_Total</th>\n",
       "    </tr>\n",
       "  </thead>\n",
       "  <tbody>\n",
       "    <tr>\n",
       "      <th>5985</th>\n",
       "      <td>Apartamento</td>\n",
       "      <td>Cachambi</td>\n",
       "      <td>3</td>\n",
       "      <td>2</td>\n",
       "      <td>1</td>\n",
       "      <td>70</td>\n",
       "      <td>2000.0</td>\n",
       "      <td>404.0</td>\n",
       "      <td>0.0</td>\n",
       "      <td>Apartamento</td>\n",
       "      <td>2404.0</td>\n",
       "    </tr>\n",
       "  </tbody>\n",
       "</table>\n",
       "</div>"
      ],
      "text/plain": [
       "             Tipo    Bairro  Quartos  Vagas  Suites  Area   Valor  Condominio  \\\n",
       "5985  Apartamento  Cachambi        3      2       1    70  2000.0       404.0   \n",
       "\n",
       "      IPTU        Grupo  Valor_Total  \n",
       "5985   0.0  Apartamento       2404.0  "
      ]
     },
     "execution_count": 142,
     "metadata": {},
     "output_type": "execute_result"
    }
   ],
   "source": [
    "cachambi_imovel_caro = bairro_cachambi['Valor_Total'] == bairro_cachambi['Valor_Total'].max()\n",
    "cachambi_imovel_caro = bairro_cachambi[cachambi_imovel_caro]\n",
    "cachambi_imovel_caro"
   ]
  },
  {
   "cell_type": "markdown",
   "id": "dfb0bdcc",
   "metadata": {},
   "source": [
    "#### Analisando os imóveis do bairro mais caro que é o Joá"
   ]
  },
  {
   "cell_type": "code",
   "execution_count": 143,
   "id": "8847341a",
   "metadata": {},
   "outputs": [],
   "source": [
    "bairro_joa = grupo_bairro.get_group('Joá')"
   ]
  },
  {
   "cell_type": "code",
   "execution_count": 144,
   "id": "4a91877c",
   "metadata": {},
   "outputs": [
    {
     "data": {
      "text/html": [
       "<div>\n",
       "<style scoped>\n",
       "    .dataframe tbody tr th:only-of-type {\n",
       "        vertical-align: middle;\n",
       "    }\n",
       "\n",
       "    .dataframe tbody tr th {\n",
       "        vertical-align: top;\n",
       "    }\n",
       "\n",
       "    .dataframe thead th {\n",
       "        text-align: right;\n",
       "    }\n",
       "</style>\n",
       "<table border=\"1\" class=\"dataframe\">\n",
       "  <thead>\n",
       "    <tr style=\"text-align: right;\">\n",
       "      <th></th>\n",
       "      <th>Tipo</th>\n",
       "      <th>Bairro</th>\n",
       "      <th>Quartos</th>\n",
       "      <th>Vagas</th>\n",
       "      <th>Suites</th>\n",
       "      <th>Area</th>\n",
       "      <th>Valor</th>\n",
       "      <th>Condominio</th>\n",
       "      <th>IPTU</th>\n",
       "      <th>Grupo</th>\n",
       "      <th>Valor_Total</th>\n",
       "    </tr>\n",
       "  </thead>\n",
       "  <tbody>\n",
       "    <tr>\n",
       "      <th>17501</th>\n",
       "      <td>Casa</td>\n",
       "      <td>Joá</td>\n",
       "      <td>3</td>\n",
       "      <td>7</td>\n",
       "      <td>3</td>\n",
       "      <td>340</td>\n",
       "      <td>7500.0</td>\n",
       "      <td>1900.0</td>\n",
       "      <td>970.0</td>\n",
       "      <td>Casa</td>\n",
       "      <td>10370.0</td>\n",
       "    </tr>\n",
       "    <tr>\n",
       "      <th>6888</th>\n",
       "      <td>Casa de Condomínio</td>\n",
       "      <td>Joá</td>\n",
       "      <td>3</td>\n",
       "      <td>7</td>\n",
       "      <td>3</td>\n",
       "      <td>320</td>\n",
       "      <td>7500.0</td>\n",
       "      <td>1900.0</td>\n",
       "      <td>950.0</td>\n",
       "      <td>Casa</td>\n",
       "      <td>10350.0</td>\n",
       "    </tr>\n",
       "    <tr>\n",
       "      <th>8840</th>\n",
       "      <td>Casa de Condomínio</td>\n",
       "      <td>Joá</td>\n",
       "      <td>4</td>\n",
       "      <td>3</td>\n",
       "      <td>2</td>\n",
       "      <td>300</td>\n",
       "      <td>10000.0</td>\n",
       "      <td>1630.0</td>\n",
       "      <td>650.0</td>\n",
       "      <td>Casa</td>\n",
       "      <td>12280.0</td>\n",
       "    </tr>\n",
       "    <tr>\n",
       "      <th>16748</th>\n",
       "      <td>Casa de Condomínio</td>\n",
       "      <td>Joá</td>\n",
       "      <td>4</td>\n",
       "      <td>3</td>\n",
       "      <td>1</td>\n",
       "      <td>300</td>\n",
       "      <td>6900.0</td>\n",
       "      <td>1200.0</td>\n",
       "      <td>500.0</td>\n",
       "      <td>Casa</td>\n",
       "      <td>8600.0</td>\n",
       "    </tr>\n",
       "    <tr>\n",
       "      <th>18659</th>\n",
       "      <td>Casa de Condomínio</td>\n",
       "      <td>Joá</td>\n",
       "      <td>3</td>\n",
       "      <td>3</td>\n",
       "      <td>3</td>\n",
       "      <td>320</td>\n",
       "      <td>7500.0</td>\n",
       "      <td>1900.0</td>\n",
       "      <td>1000.0</td>\n",
       "      <td>Casa</td>\n",
       "      <td>10400.0</td>\n",
       "    </tr>\n",
       "    <tr>\n",
       "      <th>21113</th>\n",
       "      <td>Casa de Condomínio</td>\n",
       "      <td>Joá</td>\n",
       "      <td>3</td>\n",
       "      <td>3</td>\n",
       "      <td>1</td>\n",
       "      <td>340</td>\n",
       "      <td>7500.0</td>\n",
       "      <td>1900.0</td>\n",
       "      <td>970.0</td>\n",
       "      <td>Casa</td>\n",
       "      <td>10370.0</td>\n",
       "    </tr>\n",
       "  </tbody>\n",
       "</table>\n",
       "</div>"
      ],
      "text/plain": [
       "                     Tipo Bairro  Quartos  Vagas  Suites  Area    Valor  \\\n",
       "17501                Casa    Joá        3      7       3   340   7500.0   \n",
       "6888   Casa de Condomínio    Joá        3      7       3   320   7500.0   \n",
       "8840   Casa de Condomínio    Joá        4      3       2   300  10000.0   \n",
       "16748  Casa de Condomínio    Joá        4      3       1   300   6900.0   \n",
       "18659  Casa de Condomínio    Joá        3      3       3   320   7500.0   \n",
       "21113  Casa de Condomínio    Joá        3      3       1   340   7500.0   \n",
       "\n",
       "       Condominio    IPTU Grupo  Valor_Total  \n",
       "17501      1900.0   970.0  Casa      10370.0  \n",
       "6888       1900.0   950.0  Casa      10350.0  \n",
       "8840       1630.0   650.0  Casa      12280.0  \n",
       "16748      1200.0   500.0  Casa       8600.0  \n",
       "18659      1900.0  1000.0  Casa      10400.0  \n",
       "21113      1900.0   970.0  Casa      10370.0  "
      ]
     },
     "execution_count": 144,
     "metadata": {},
     "output_type": "execute_result"
    }
   ],
   "source": [
    "bairro_joa"
   ]
  },
  {
   "cell_type": "code",
   "execution_count": 145,
   "id": "ed03e0df",
   "metadata": {},
   "outputs": [
    {
     "data": {
      "text/html": [
       "<div>\n",
       "<style scoped>\n",
       "    .dataframe tbody tr th:only-of-type {\n",
       "        vertical-align: middle;\n",
       "    }\n",
       "\n",
       "    .dataframe tbody tr th {\n",
       "        vertical-align: top;\n",
       "    }\n",
       "\n",
       "    .dataframe thead th {\n",
       "        text-align: right;\n",
       "    }\n",
       "</style>\n",
       "<table border=\"1\" class=\"dataframe\">\n",
       "  <thead>\n",
       "    <tr style=\"text-align: right;\">\n",
       "      <th></th>\n",
       "      <th>Tipo</th>\n",
       "      <th>Bairro</th>\n",
       "      <th>Quartos</th>\n",
       "      <th>Vagas</th>\n",
       "      <th>Suites</th>\n",
       "      <th>Area</th>\n",
       "      <th>Valor</th>\n",
       "      <th>Condominio</th>\n",
       "      <th>IPTU</th>\n",
       "      <th>Grupo</th>\n",
       "      <th>Valor_Total</th>\n",
       "    </tr>\n",
       "  </thead>\n",
       "  <tbody>\n",
       "    <tr>\n",
       "      <th>16748</th>\n",
       "      <td>Casa de Condomínio</td>\n",
       "      <td>Joá</td>\n",
       "      <td>4</td>\n",
       "      <td>3</td>\n",
       "      <td>1</td>\n",
       "      <td>300</td>\n",
       "      <td>6900.0</td>\n",
       "      <td>1200.0</td>\n",
       "      <td>500.0</td>\n",
       "      <td>Casa</td>\n",
       "      <td>8600.0</td>\n",
       "    </tr>\n",
       "  </tbody>\n",
       "</table>\n",
       "</div>"
      ],
      "text/plain": [
       "                     Tipo Bairro  Quartos  Vagas  Suites  Area   Valor  \\\n",
       "16748  Casa de Condomínio    Joá        4      3       1   300  6900.0   \n",
       "\n",
       "       Condominio   IPTU Grupo  Valor_Total  \n",
       "16748      1200.0  500.0  Casa       8600.0  "
      ]
     },
     "execution_count": 145,
     "metadata": {},
     "output_type": "execute_result"
    }
   ],
   "source": [
    "joa_imovel_barato = bairro_joa['Valor_Total'] == bairro_joa['Valor_Total'].min()\n",
    "joa_imovel_barato =  bairro_joa[joa_imovel_barato]\n",
    "joa_imovel_barato"
   ]
  },
  {
   "cell_type": "code",
   "execution_count": 146,
   "id": "9983f98f",
   "metadata": {},
   "outputs": [
    {
     "data": {
      "text/html": [
       "<div>\n",
       "<style scoped>\n",
       "    .dataframe tbody tr th:only-of-type {\n",
       "        vertical-align: middle;\n",
       "    }\n",
       "\n",
       "    .dataframe tbody tr th {\n",
       "        vertical-align: top;\n",
       "    }\n",
       "\n",
       "    .dataframe thead th {\n",
       "        text-align: right;\n",
       "    }\n",
       "</style>\n",
       "<table border=\"1\" class=\"dataframe\">\n",
       "  <thead>\n",
       "    <tr style=\"text-align: right;\">\n",
       "      <th></th>\n",
       "      <th>Tipo</th>\n",
       "      <th>Bairro</th>\n",
       "      <th>Quartos</th>\n",
       "      <th>Vagas</th>\n",
       "      <th>Suites</th>\n",
       "      <th>Area</th>\n",
       "      <th>Valor</th>\n",
       "      <th>Condominio</th>\n",
       "      <th>IPTU</th>\n",
       "      <th>Grupo</th>\n",
       "      <th>Valor_Total</th>\n",
       "    </tr>\n",
       "  </thead>\n",
       "  <tbody>\n",
       "    <tr>\n",
       "      <th>8840</th>\n",
       "      <td>Casa de Condomínio</td>\n",
       "      <td>Joá</td>\n",
       "      <td>4</td>\n",
       "      <td>3</td>\n",
       "      <td>2</td>\n",
       "      <td>300</td>\n",
       "      <td>10000.0</td>\n",
       "      <td>1630.0</td>\n",
       "      <td>650.0</td>\n",
       "      <td>Casa</td>\n",
       "      <td>12280.0</td>\n",
       "    </tr>\n",
       "  </tbody>\n",
       "</table>\n",
       "</div>"
      ],
      "text/plain": [
       "                    Tipo Bairro  Quartos  Vagas  Suites  Area    Valor  \\\n",
       "8840  Casa de Condomínio    Joá        4      3       2   300  10000.0   \n",
       "\n",
       "      Condominio   IPTU Grupo  Valor_Total  \n",
       "8840      1630.0  650.0  Casa      12280.0  "
      ]
     },
     "execution_count": 146,
     "metadata": {},
     "output_type": "execute_result"
    }
   ],
   "source": [
    "joa_imovel_caro = bairro_joa['Valor_Total'] == bairro_joa['Valor_Total'].max()\n",
    "joa_imovel_caro =  bairro_joa[joa_imovel_caro]\n",
    "joa_imovel_caro"
   ]
  },
  {
   "cell_type": "markdown",
   "id": "c1e3ee8c",
   "metadata": {},
   "source": [
    "## Relatório final da nossa análise"
   ]
  },
  {
   "cell_type": "code",
   "execution_count": 166,
   "id": "3f08e903",
   "metadata": {},
   "outputs": [
    {
     "data": {
      "text/plain": [
       "<Figure size 1440x1800 with 0 Axes>"
      ]
     },
     "metadata": {},
     "output_type": "display_data"
    }
   ],
   "source": [
    "area = plt.figure()"
   ]
  },
  {
   "cell_type": "code",
   "execution_count": 167,
   "id": "aac58909",
   "metadata": {},
   "outputs": [],
   "source": [
    "g1 = area.add_subplot(3,1,1)\n",
    "g2 = area.add_subplot(3,1,2)\n",
    "g3 = area.add_subplot(3,1,3)"
   ]
  },
  {
   "cell_type": "code",
   "execution_count": 168,
   "id": "dc40eb15",
   "metadata": {},
   "outputs": [],
   "source": [
    "concatena_gardencia = pd.concat([gardencia_imovel_barato, gardencia_imovel_caro])\n",
    "concatena_cachambi = pd.concat([cachambi_imovel_barato, cachambi_imovel_caro])\n",
    "concatena_joa = pd.concat([joa_imovel_barato, joa_imovel_caro])"
   ]
  },
  {
   "cell_type": "code",
   "execution_count": 171,
   "id": "febfd03f",
   "metadata": {},
   "outputs": [
    {
     "data": {
      "text/plain": [
       "Text(0.5, 1.0, 'Imóveis do Bairro Mais Caro - TIPO x VALOR MENSAL')"
      ]
     },
     "execution_count": 171,
     "metadata": {},
     "output_type": "execute_result"
    }
   ],
   "source": [
    "g1.bar(bairro_gardencia.Tipo, bairro_gardencia.Valor_Total)\n",
    "g1.set_title('Imóvéis no Bairro Mais Barato - TIPO x VALOR MENSAL')\n",
    "\n",
    "g2.bar(bairro_cachambi.Tipo, bairro_cachambi.Valor_Total)\n",
    "g2.set_title('Imóveis do Bairro Médio - TIPO x VALOR MENSAL')\n",
    "\n",
    "g3.bar(bairro_joa.Tipo, bairro_joa.Valor_Total)\n",
    "g3.set_title('Imóveis do Bairro Mais Caro - TIPO x VALOR MENSAL')"
   ]
  },
  {
   "cell_type": "code",
   "execution_count": 172,
   "id": "9f23e123",
   "metadata": {},
   "outputs": [
    {
     "data": {
      "image/png": "[encoded data removed]",
      "text/plain": [
       "<Figure size 1440x1800 with 3 Axes>"
      ]
     },
     "execution_count": 172,
     "metadata": {},
     "output_type": "execute_result"
    }
   ],
   "source": [
    "area"
   ]
  },
  {
   "cell_type": "code",
   "execution_count": null,
   "id": "c86e5cbe",
   "metadata": {},
   "outputs": [],
   "source": []
  }
 ],
 "metadata": {
  "kernelspec": {
   "display_name": "Python 3 (ipykernel)",
   "language": "python",
   "name": "python3"
  },
  "language_info": {
   "codemirror_mode": {
    "name": "ipython",
    "version": 3
   },
   "file_extension": ".py",
   "mimetype": "text/x-python",
   "name": "python",
   "nbconvert_exporter": "python",
   "pygments_lexer": "ipython3",
   "version": "3.9.7"
  },
  "widgets": {
   "application/vnd.jupyter.widget-state+json": {
    "state": {},
    "version_major": 2,
    "version_minor": 0
   }
  }
 },
 "nbformat": 4,
 "nbformat_minor": 5
}
